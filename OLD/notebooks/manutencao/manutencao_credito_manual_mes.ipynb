{
 "cells": [
  {
   "cell_type": "code",
   "execution_count": 1,
   "metadata": {},
   "outputs": [],
   "source": [
    "import pandas as pd    \n",
    "import os\n",
    "import re\n",
    "path_note = os.getcwd()\n",
    "path_src = re.sub(r'(.)notebooks','',path_note)"
   ]
  },
  {
   "cell_type": "code",
   "execution_count": 2,
   "metadata": {},
   "outputs": [],
   "source": [
    "import sys\n",
    "sys.path.append(os.path.abspath(f'{path_src}/'))"
   ]
  },
  {
   "cell_type": "code",
   "execution_count": 3,
   "metadata": {},
   "outputs": [
    {
     "name": "stdout",
     "output_type": "stream",
     "text": [
      "\n",
      "\n",
      "Etapa de conversão do type das colunas do dataframe gerada do excel:credito_2024_02.xls \n",
      "\n",
      "TAMANHO TOTAL DF: 14\n",
      "\n",
      "\n"
     ]
    }
   ],
   "source": [
    "from fin_api import consulta_excel\n",
    "# periodo=\"2024-02-01\"\n",
    "# strsql = f\"SELECT * FROM dev_domestico.custo_2024_excel where dt_mes_base ='{periodo}'  \"\n",
    "mes_ano='2024_04'\n",
    "df = consulta_excel(path_src, f'credito_2024_02', 'credito', mes_ano)"
   ]
  },
  {
   "cell_type": "code",
   "execution_count": 4,
   "metadata": {},
   "outputs": [
    {
     "data": {
      "text/html": [
       "<div>\n",
       "<style scoped>\n",
       "    .dataframe tbody tr th:only-of-type {\n",
       "        vertical-align: middle;\n",
       "    }\n",
       "\n",
       "    .dataframe tbody tr th {\n",
       "        vertical-align: top;\n",
       "    }\n",
       "\n",
       "    .dataframe thead th {\n",
       "        text-align: right;\n",
       "    }\n",
       "</style>\n",
       "<table border=\"1\" class=\"dataframe\">\n",
       "  <thead>\n",
       "    <tr style=\"text-align: right;\">\n",
       "      <th></th>\n",
       "      <th>dt_extrato_bq</th>\n",
       "      <th>descricao</th>\n",
       "      <th>valor_ext</th>\n",
       "      <th>valor_parc</th>\n",
       "      <th>dt_base</th>\n",
       "    </tr>\n",
       "  </thead>\n",
       "  <tbody>\n",
       "    <tr>\n",
       "      <th>0</th>\n",
       "      <td>2024-01-24</td>\n",
       "      <td>Dm*spotify</td>\n",
       "      <td>21.90</td>\n",
       "      <td>21.90</td>\n",
       "      <td>2024-02-01</td>\n",
       "    </tr>\n",
       "    <tr>\n",
       "      <th>1</th>\n",
       "      <td>2024-01-10</td>\n",
       "      <td>Dl*google Google</td>\n",
       "      <td>38.99</td>\n",
       "      <td>38.99</td>\n",
       "      <td>2024-02-01</td>\n",
       "    </tr>\n",
       "    <tr>\n",
       "      <th>2</th>\n",
       "      <td>2024-01-12</td>\n",
       "      <td>Amazon Prime Canais</td>\n",
       "      <td>16.90</td>\n",
       "      <td>16.90</td>\n",
       "      <td>2024-02-01</td>\n",
       "    </tr>\n",
       "    <tr>\n",
       "      <th>3</th>\n",
       "      <td>2024-01-16</td>\n",
       "      <td>Netflix.com</td>\n",
       "      <td>68.80</td>\n",
       "      <td>68.80</td>\n",
       "      <td>2024-02-01</td>\n",
       "    </tr>\n",
       "    <tr>\n",
       "      <th>4</th>\n",
       "      <td>2024-01-19</td>\n",
       "      <td>Produtos Globo</td>\n",
       "      <td>54.90</td>\n",
       "      <td>54.90</td>\n",
       "      <td>2024-02-01</td>\n",
       "    </tr>\n",
       "    <tr>\n",
       "      <th>5</th>\n",
       "      <td>2024-01-23</td>\n",
       "      <td>Seg Cartao Protegido</td>\n",
       "      <td>14.90</td>\n",
       "      <td>14.90</td>\n",
       "      <td>2024-02-01</td>\n",
       "    </tr>\n",
       "    <tr>\n",
       "      <th>6</th>\n",
       "      <td>2024-01-24</td>\n",
       "      <td>Disney Plus</td>\n",
       "      <td>33.90</td>\n",
       "      <td>33.90</td>\n",
       "      <td>2024-02-01</td>\n",
       "    </tr>\n",
       "    <tr>\n",
       "      <th>7</th>\n",
       "      <td>2024-01-24</td>\n",
       "      <td>Amazon Prime Canais</td>\n",
       "      <td>34.90</td>\n",
       "      <td>34.90</td>\n",
       "      <td>2024-02-01</td>\n",
       "    </tr>\n",
       "    <tr>\n",
       "      <th>8</th>\n",
       "      <td>2024-01-28</td>\n",
       "      <td>Amazon Prime Canais</td>\n",
       "      <td>19.90</td>\n",
       "      <td>19.90</td>\n",
       "      <td>2024-02-01</td>\n",
       "    </tr>\n",
       "    <tr>\n",
       "      <th>9</th>\n",
       "      <td>2024-02-01</td>\n",
       "      <td>Dl*google Cloud</td>\n",
       "      <td>106.03</td>\n",
       "      <td>106.03</td>\n",
       "      <td>2024-02-01</td>\n",
       "    </tr>\n",
       "    <tr>\n",
       "      <th>10</th>\n",
       "      <td>2024-02-02</td>\n",
       "      <td>Amazon Aws Servicos Bra</td>\n",
       "      <td>205.91</td>\n",
       "      <td>205.91</td>\n",
       "      <td>2024-02-01</td>\n",
       "    </tr>\n",
       "    <tr>\n",
       "      <th>11</th>\n",
       "      <td>2024-02-05</td>\n",
       "      <td>Amazonprimebr</td>\n",
       "      <td>14.90</td>\n",
       "      <td>14.90</td>\n",
       "      <td>2024-02-01</td>\n",
       "    </tr>\n",
       "    <tr>\n",
       "      <th>12</th>\n",
       "      <td>2024-01-12</td>\n",
       "      <td>Scribd *589796495</td>\n",
       "      <td>29.55</td>\n",
       "      <td>29.55</td>\n",
       "      <td>2024-02-01</td>\n",
       "    </tr>\n",
       "    <tr>\n",
       "      <th>13</th>\n",
       "      <td>2024-01-12</td>\n",
       "      <td>IOF - transação internacional</td>\n",
       "      <td>1.28</td>\n",
       "      <td>1.28</td>\n",
       "      <td>2024-02-01</td>\n",
       "    </tr>\n",
       "  </tbody>\n",
       "</table>\n",
       "</div>"
      ],
      "text/plain": [
       "   dt_extrato_bq                      descricao  valor_ext  valor_parc  \\\n",
       "0     2024-01-24                     Dm*spotify      21.90       21.90   \n",
       "1     2024-01-10               Dl*google Google      38.99       38.99   \n",
       "2     2024-01-12            Amazon Prime Canais      16.90       16.90   \n",
       "3     2024-01-16                    Netflix.com      68.80       68.80   \n",
       "4     2024-01-19                 Produtos Globo      54.90       54.90   \n",
       "5     2024-01-23           Seg Cartao Protegido      14.90       14.90   \n",
       "6     2024-01-24                    Disney Plus      33.90       33.90   \n",
       "7     2024-01-24            Amazon Prime Canais      34.90       34.90   \n",
       "8     2024-01-28            Amazon Prime Canais      19.90       19.90   \n",
       "9     2024-02-01                Dl*google Cloud     106.03      106.03   \n",
       "10    2024-02-02        Amazon Aws Servicos Bra     205.91      205.91   \n",
       "11    2024-02-05                  Amazonprimebr      14.90       14.90   \n",
       "12    2024-01-12              Scribd *589796495      29.55       29.55   \n",
       "13    2024-01-12  IOF - transação internacional       1.28        1.28   \n",
       "\n",
       "      dt_base  \n",
       "0  2024-02-01  \n",
       "1  2024-02-01  \n",
       "2  2024-02-01  \n",
       "3  2024-02-01  \n",
       "4  2024-02-01  \n",
       "5  2024-02-01  \n",
       "6  2024-02-01  \n",
       "7  2024-02-01  \n",
       "8  2024-02-01  \n",
       "9  2024-02-01  \n",
       "10 2024-02-01  \n",
       "11 2024-02-01  \n",
       "12 2024-02-01  \n",
       "13 2024-02-01  "
      ]
     },
     "execution_count": 4,
     "metadata": {},
     "output_type": "execute_result"
    }
   ],
   "source": [
    "df"
   ]
  },
  {
   "cell_type": "code",
   "execution_count": 12,
   "metadata": {},
   "outputs": [],
   "source": [
    "# df['dt_extrato_bq'] = pd.to_datetime(df['dt_extrato_bq'],format='%d/%m/%Y')\n",
    "\n",
    "# df['dt_base'] = mes_ano.replace(\"_\", \"/\")+\"/01\"\n",
    "# df['dt_base'] = pd.to_datetime(df['dt_base'],format='%Y/%m/%d')\n",
    "\n",
    "# df['ano'] = pd.to_datetime(df['dt_base'].iloc[0]).strftime(\"%Y\")\n",
    "# df['mes'] = pd.to_datetime(df['dt_base'].iloc[0]).strftime(\"%m\")\n",
    "# import datetime as dt\n",
    "# #df_dt_base = dt.datetime(year=int(df['ano'].iloc[0]),month=int(df['mes'].iloc[0]), day=1)"
   ]
  },
  {
   "cell_type": "code",
   "execution_count": null,
   "metadata": {},
   "outputs": [],
   "source": [
    "\n",
    "from myextractcred_2024 import my_extract_excel_cred, my_credits\n",
    "my_cred = my_credits\n",
    "my_cred(df, path_src, f'credito_{mes_ano}.xls')"
   ]
  },
  {
   "cell_type": "code",
   "execution_count": 3,
   "metadata": {},
   "outputs": [
    {
     "data": {
      "text/plain": [
       "QueryJob<project=devsamelo2, location=US, id=custo_domestico_b8a20613-3457-446a-bf13-c0298971d213>"
      ]
     },
     "execution_count": 3,
     "metadata": {},
     "output_type": "execute_result"
    }
   ],
   "source": [
    "# #['credito_2023_excel'] #['recebido_2023_excel','credito_2023_excel','custo_2023_excel','saldo_2023_excel']\n",
    "# mes='2023-08-01'\n",
    "# query = f'DELETE FROM dev_domestico.credito_2023_excel where dt_mes_base={mes}' #where dt_mes_base = {periodo}\n",
    "# from mygcpjobfinfam import my_execute_job\n",
    "# my_job = my_execute_job\n",
    "# my_job(query)"
   ]
  },
  {
   "cell_type": "code",
   "execution_count": 4,
   "metadata": {},
   "outputs": [
    {
     "name": "stdout",
     "output_type": "stream",
     "text": [
      "Etapa de conversão do type das colunas do dataframe gerada do excel:credito_2023_08.xls \n",
      "\n",
      "CREDITS:credito_2023_08.xls \n",
      "\n",
      "TOTAL DE LINHAS CREDITS: 61 \n",
      "\n",
      "Etapa INTERMEDIARIA DO PUSHOUT para classificação do tipo de custo \n",
      "\n",
      "Total tipos_encontrados:51 / tipos_nao_encontrados:0 / tipo_generico:10\n",
      "\n",
      "Table devsamelo2.dev_domestico.credito_2023_excel already exists.\n",
      "Loaded 806 rows and 7 columns to devsamelo2.dev_domestico.credito_2023_excel\n"
     ]
    }
   ],
   "source": [
    "# from myextractcred import my_extract_excel_cred\n",
    "# my_fin = my_extract_excel_cred\n",
    "\n",
    "# mes = '08'\n",
    "\n",
    "# df = my_fin(path_src, f'credito_2023_{mes}.xls')\n",
    "\n",
    "# from myextractcred import my_credits\n",
    "# my_cred = my_credits\n",
    "\n",
    "# my_cred(df, path_src, f'credito_2023_{mes}.xls')\n"
   ]
  }
 ],
 "metadata": {
  "kernelspec": {
   "display_name": "env",
   "language": "python",
   "name": "python3"
  },
  "language_info": {
   "codemirror_mode": {
    "name": "ipython",
    "version": 3
   },
   "file_extension": ".py",
   "mimetype": "text/x-python",
   "name": "python",
   "nbconvert_exporter": "python",
   "pygments_lexer": "ipython3",
   "version": "3.11.9"
  },
  "orig_nbformat": 4,
  "vscode": {
   "interpreter": {
    "hash": "268ab01c0d1568052fde17b27b7cfc10139e4612f952501a45d2fe6145ce40b7"
   }
  }
 },
 "nbformat": 4,
 "nbformat_minor": 2
}
