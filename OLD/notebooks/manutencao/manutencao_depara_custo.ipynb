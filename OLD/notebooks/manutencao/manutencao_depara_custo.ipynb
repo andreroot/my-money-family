{
 "cells": [
  {
   "cell_type": "code",
   "execution_count": 41,
   "metadata": {},
   "outputs": [],
   "source": [
    "import pandas as pd    \n",
    "import os\n",
    "import re\n",
    "path_note = os.getcwd()\n",
    "path_src = re.sub(r'(.)notebooks','',path_note)"
   ]
  },
  {
   "cell_type": "code",
   "execution_count": 42,
   "metadata": {},
   "outputs": [],
   "source": [
    "import sys\n",
    "sys.path.append(os.path.abspath(f'{path_src}/'))"
   ]
  },
  {
   "cell_type": "code",
   "execution_count": 43,
   "metadata": {},
   "outputs": [],
   "source": [
    "from fin_api import consulta_gcp, aplicar_regra_tipo_custo, manutencao_dados\n",
    "\n",
    "periodo=\"2024-02-01\"\n",
    "strsql = f\"SELECT * FROM dev_domestico.custo_2024_excel where dt_mes_base ='{periodo}'  \"\n",
    "\n",
    "df = consulta_gcp(strsql)"
   ]
  },
  {
   "cell_type": "markdown",
   "metadata": {},
   "source": [
    "*VALIDAÇÃO ANTES DA CORREÇÃO"
   ]
  },
  {
   "cell_type": "code",
   "execution_count": 44,
   "metadata": {},
   "outputs": [
    {
     "data": {
      "text/html": [
       "<div>\n",
       "<style scoped>\n",
       "    .dataframe tbody tr th:only-of-type {\n",
       "        vertical-align: middle;\n",
       "    }\n",
       "\n",
       "    .dataframe tbody tr th {\n",
       "        vertical-align: top;\n",
       "    }\n",
       "\n",
       "    .dataframe thead th {\n",
       "        text-align: right;\n",
       "    }\n",
       "</style>\n",
       "<table border=\"1\" class=\"dataframe\">\n",
       "  <thead>\n",
       "    <tr style=\"text-align: right;\">\n",
       "      <th></th>\n",
       "      <th>tipo_custo</th>\n",
       "      <th>custo</th>\n",
       "      <th>valor_custo</th>\n",
       "      <th>dt_mes_base</th>\n",
       "      <th>dt_custo</th>\n",
       "      <th>process_time</th>\n",
       "    </tr>\n",
       "  </thead>\n",
       "  <tbody>\n",
       "  </tbody>\n",
       "</table>\n",
       "</div>"
      ],
      "text/plain": [
       "Empty DataFrame\n",
       "Columns: [tipo_custo, custo, valor_custo, dt_mes_base, dt_custo, process_time]\n",
       "Index: []"
      ]
     },
     "execution_count": 44,
     "metadata": {},
     "output_type": "execute_result"
    }
   ],
   "source": [
    "df[df[\"tipo_custo\"]==\"pessoa\"]\n",
    "#df[df['tipo_custo'].str.contains(r'feira-\\w+|feira')==False]"
   ]
  },
  {
   "cell_type": "markdown",
   "metadata": {},
   "source": [
    "#FUNÇÃO USADA PARA PLICAR REGRA TIPO DE CUSTO"
   ]
  },
  {
   "cell_type": "code",
   "execution_count": 45,
   "metadata": {},
   "outputs": [
    {
     "name": "stdout",
     "output_type": "stream",
     "text": [
      "Etapa INTERMEDIARIA DO PUSHOUT para classificação do tipo de custo \n",
      "\n",
      "Total tipos_encontrados:17 / tipos_nao_encontrados:0\n",
      "\n"
     ]
    }
   ],
   "source": [
    "df = aplicar_regra_tipo_custo(df, path_src)"
   ]
  },
  {
   "cell_type": "markdown",
   "metadata": {},
   "source": [
    "*VALIDAÇÃO APOS DA CORREÇÃO"
   ]
  },
  {
   "cell_type": "code",
   "execution_count": 46,
   "metadata": {},
   "outputs": [
    {
     "data": {
      "text/html": [
       "<div>\n",
       "<style scoped>\n",
       "    .dataframe tbody tr th:only-of-type {\n",
       "        vertical-align: middle;\n",
       "    }\n",
       "\n",
       "    .dataframe tbody tr th {\n",
       "        vertical-align: top;\n",
       "    }\n",
       "\n",
       "    .dataframe thead th {\n",
       "        text-align: right;\n",
       "    }\n",
       "</style>\n",
       "<table border=\"1\" class=\"dataframe\">\n",
       "  <thead>\n",
       "    <tr style=\"text-align: right;\">\n",
       "      <th></th>\n",
       "      <th>tipo_custo</th>\n",
       "      <th>custo</th>\n",
       "      <th>valor_custo</th>\n",
       "      <th>dt_mes_base</th>\n",
       "      <th>dt_custo</th>\n",
       "      <th>process_time</th>\n",
       "    </tr>\n",
       "  </thead>\n",
       "  <tbody>\n",
       "  </tbody>\n",
       "</table>\n",
       "</div>"
      ],
      "text/plain": [
       "Empty DataFrame\n",
       "Columns: [tipo_custo, custo, valor_custo, dt_mes_base, dt_custo, process_time]\n",
       "Index: []"
      ]
     },
     "execution_count": 46,
     "metadata": {},
     "output_type": "execute_result"
    }
   ],
   "source": [
    "#df[df[\"tipo_custo\"]==\"pessoa\"]\n",
    "df[df[\"tipo_custo\"].isnull()]\n",
    "#df[df['tipo_custo'].str.contains(r'feira-\\w+|feira')==False]\n"
   ]
  },
  {
   "cell_type": "code",
   "execution_count": 47,
   "metadata": {},
   "outputs": [
    {
     "name": "stdout",
     "output_type": "stream",
     "text": [
      "SAIDA / CUSTO / PUSHOUT: \n",
      "\n",
      "Primeira etapa gerar dados controle da conta debito: Limpeza de dados da tabela: custo_2023_excel!!! \n",
      "\n",
      "Table devsamelo2.dev_domestico.custo_2024_excel already exists.\n",
      "Loaded 161 rows and 6 columns to devsamelo2.dev_domestico.custo_2024_excel\n"
     ]
    }
   ],
   "source": [
    "manutencao_dados(df, path_src, '2024', periodo)"
   ]
  }
 ],
 "metadata": {
  "kernelspec": {
   "display_name": "env",
   "language": "python",
   "name": "python3"
  },
  "language_info": {
   "codemirror_mode": {
    "name": "ipython",
    "version": 3
   },
   "file_extension": ".py",
   "mimetype": "text/x-python",
   "name": "python",
   "nbconvert_exporter": "python",
   "pygments_lexer": "ipython3",
   "version": "3.11.8"
  },
  "orig_nbformat": 4,
  "vscode": {
   "interpreter": {
    "hash": "268ab01c0d1568052fde17b27b7cfc10139e4612f952501a45d2fe6145ce40b7"
   }
  }
 },
 "nbformat": 4,
 "nbformat_minor": 2
}
