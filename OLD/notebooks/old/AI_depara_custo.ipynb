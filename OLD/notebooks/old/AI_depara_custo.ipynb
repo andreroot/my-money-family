{
 "cells": [
  {
   "cell_type": "code",
   "execution_count": 10,
   "metadata": {},
   "outputs": [],
   "source": [
    "import pandas as pd   \n",
    "import pandas_gbq as pgbq \n",
    "import os\n",
    "import re\n",
    "import sys"
   ]
  },
  {
   "cell_type": "code",
   "execution_count": 11,
   "metadata": {},
   "outputs": [],
   "source": [
    "path_note = os.getcwd()\n",
    "path_src = re.sub(r'(.)notebooks','',path_note)\n",
    "sys.path.append(os.path.abspath(f'{path_src}/'))"
   ]
  },
  {
   "cell_type": "code",
   "execution_count": 12,
   "metadata": {},
   "outputs": [],
   "source": [
    "import google.auth\n",
    "\n",
    "user = os.getlogin()\n",
    "#linux\n",
    "#os.environ[\"GOOGLE_APPLICATION_CREDENTIALS\"] = '/home/andre/.ssh/my-chave-gcp-devsamelo2.json'\n",
    "#windows\n",
    "os.environ[\"GOOGLE_APPLICATION_CREDENTIALS\"] = r'C:\\Users\\andre\\.ssh\\my-chave-gcp-devsamelo2.json'\n",
    "#[Environment]::SetEnvironmentVariable(\"GOOGLE_APPLICATION_CREDENTIALS\",\"C:\\Users\\andre\\.ssh\\my-chave-gcp-devsamelo2.json\",\"User\")\n",
    "\n",
    "#credencial = service_account.Credentials.from_service_account_file(key)\n",
    "credencial, pid = google.auth.default(     \n",
    "    scopes=[\n",
    "    \"https://www.googleapis.com/auth/drive\",\n",
    "    \"https://www.googleapis.com/auth/bigquery\",\n",
    "    \"https://www.googleapis.com/auth/cloud-platform\"\n",
    "])"
   ]
  },
  {
   "cell_type": "code",
   "execution_count": 18,
   "metadata": {},
   "outputs": [],
   "source": [
    "\n",
    "strsql = '''\n",
    "SELECT custo\n",
    ", tipo_custo\n",
    ", 'debito'\n",
    ", dt_mes_base\n",
    ", valor_custo\n",
    ", dt_custo\n",
    " FROM devsamelo2.dev_domestico.custo_2023_excel --where dt_mes_base = '2023-12-01' --where tipo_custo is null --= 'compra'\n",
    "#  union all\n",
    "#  SELECT custo_credito  de_para\n",
    "# , tipo_custo_credito tipo_custo\n",
    "# , 'credito' source\n",
    "# , dt_mes_base\n",
    "#  FROM devsamelo2.dev_domestico.credito_2023_excel --where tipo_custo_credito is null\n",
    "\n",
    "'''\n",
    "\n",
    "#--regexp_extract(custo, r'^PIX TRANSF .(\\w.+)') is not null\n",
    "#--regexp_extract(custo, r'^(SABESP)') = 'SABESP'\n",
    "\n",
    "df = pgbq.read_gbq(strsql, project_id='devsamelo2' , credentials=credencial, progress_bar_type=None)"
   ]
  },
  {
   "cell_type": "code",
   "execution_count": 19,
   "metadata": {},
   "outputs": [
    {
     "name": "stdout",
     "output_type": "stream",
     "text": [
      "df 1005\n",
      "nulo 0\n",
      "not nulo 1005\n"
     ]
    }
   ],
   "source": [
    "print('df',len(df))\n",
    "print('nulo',len(df[(df[\"tipo_custo\"].isnull())]))\n",
    "print('not nulo',len(df[(df[\"tipo_custo\"].notnull())]))"
   ]
  },
  {
   "cell_type": "code",
   "execution_count": 15,
   "metadata": {},
   "outputs": [],
   "source": [
    "dfnull=df[(df[\"tipo_custo\"].isnull())]"
   ]
  },
  {
   "cell_type": "code",
   "execution_count": 17,
   "metadata": {},
   "outputs": [],
   "source": [
    "dfnull\n",
    "dfnull.to_csv('sql/depara.csv')"
   ]
  },
  {
   "cell_type": "code",
   "execution_count": 9,
   "metadata": {},
   "outputs": [
    {
     "name": "stdout",
     "output_type": "stream",
     "text": [
      "Etapa INTERMEDIARIA DO PUSHOUT para classificação do tipo de custo \n",
      "\n",
      "Total tipos_encontrados:6 / tipos_nao_encontrados:0 / tipo_generico:0\n",
      "\n"
     ]
    },
    {
     "data": {
      "text/html": [
       "<div>\n",
       "<style scoped>\n",
       "    .dataframe tbody tr th:only-of-type {\n",
       "        vertical-align: middle;\n",
       "    }\n",
       "\n",
       "    .dataframe tbody tr th {\n",
       "        vertical-align: top;\n",
       "    }\n",
       "\n",
       "    .dataframe thead th {\n",
       "        text-align: right;\n",
       "    }\n",
       "</style>\n",
       "<table border=\"1\" class=\"dataframe\">\n",
       "  <thead>\n",
       "    <tr style=\"text-align: right;\">\n",
       "      <th></th>\n",
       "      <th>descricao</th>\n",
       "      <th>tipo_custo</th>\n",
       "      <th>f0_</th>\n",
       "      <th>dt_mes_base</th>\n",
       "      <th>valor_custo</th>\n",
       "      <th>dt_custo</th>\n",
       "    </tr>\n",
       "  </thead>\n",
       "  <tbody>\n",
       "    <tr>\n",
       "      <th>3</th>\n",
       "      <td>ELECTRONMARY PAPER</td>\n",
       "      <td>loja</td>\n",
       "      <td>debito</td>\n",
       "      <td>2023-12-01</td>\n",
       "      <td>13.0</td>\n",
       "      <td>2023-12-04</td>\n",
       "    </tr>\n",
       "    <tr>\n",
       "      <th>4</th>\n",
       "      <td>ELECTRONPAG*JoseSev</td>\n",
       "      <td>pessoa</td>\n",
       "      <td>debito</td>\n",
       "      <td>2023-12-01</td>\n",
       "      <td>10.0</td>\n",
       "      <td>2023-12-04</td>\n",
       "    </tr>\n",
       "    <tr>\n",
       "      <th>5</th>\n",
       "      <td>ELECTRONPAG*ArianaD</td>\n",
       "      <td>pessoa</td>\n",
       "      <td>debito</td>\n",
       "      <td>2023-12-01</td>\n",
       "      <td>4.0</td>\n",
       "      <td>2023-12-04</td>\n",
       "    </tr>\n",
       "    <tr>\n",
       "      <th>6</th>\n",
       "      <td>ELECTRONPALMAS DO T</td>\n",
       "      <td>padaria</td>\n",
       "      <td>debito</td>\n",
       "      <td>2023-12-01</td>\n",
       "      <td>13.0</td>\n",
       "      <td>2023-12-04</td>\n",
       "    </tr>\n",
       "    <tr>\n",
       "      <th>7</th>\n",
       "      <td>ELECTRONRAMOV TRIMA</td>\n",
       "      <td>alimentacao</td>\n",
       "      <td>debito</td>\n",
       "      <td>2023-12-01</td>\n",
       "      <td>16.0</td>\n",
       "      <td>2023-12-04</td>\n",
       "    </tr>\n",
       "    <tr>\n",
       "      <th>8</th>\n",
       "      <td>ELECTRONIMW VILA ME</td>\n",
       "      <td>igreja</td>\n",
       "      <td>debito</td>\n",
       "      <td>2023-12-01</td>\n",
       "      <td>36.0</td>\n",
       "      <td>2023-12-04</td>\n",
       "    </tr>\n",
       "  </tbody>\n",
       "</table>\n",
       "</div>"
      ],
      "text/plain": [
       "             descricao   tipo_custo     f0_ dt_mes_base  valor_custo  \\\n",
       "3   ELECTRONMARY PAPER         loja  debito  2023-12-01         13.0   \n",
       "4  ELECTRONPAG*JoseSev       pessoa  debito  2023-12-01         10.0   \n",
       "5  ELECTRONPAG*ArianaD       pessoa  debito  2023-12-01          4.0   \n",
       "6  ELECTRONPALMAS DO T      padaria  debito  2023-12-01         13.0   \n",
       "7  ELECTRONRAMOV TRIMA  alimentacao  debito  2023-12-01         16.0   \n",
       "8  ELECTRONIMW VILA ME       igreja  debito  2023-12-01         36.0   \n",
       "\n",
       "     dt_custo  \n",
       "3  2023-12-04  \n",
       "4  2023-12-04  \n",
       "5  2023-12-04  \n",
       "6  2023-12-04  \n",
       "7  2023-12-04  \n",
       "8  2023-12-04  "
      ]
     },
     "execution_count": 9,
     "metadata": {},
     "output_type": "execute_result"
    }
   ],
   "source": [
    "dfnull = dfnull.rename(columns={'valor': 'tipo_custo'})\n",
    "dfnull = dfnull.rename(columns={'custo': 'descricao'})\n",
    "\n",
    "from mytypedestinmoney_v1 import my_destin_pushout_csv\n",
    "dfnull = my_destin_pushout_csv(dfnull, r'C:\\Users\\andre\\Documents\\github\\my-money-family\\admin\\src\\csv\\08-11-2023-type.csv')\n",
    "\n",
    "\n",
    "# import re\n",
    "# dfnull[\"valor\"] = dfnull.apply(lambda x: ' '.join(re.findall(r'^ELECTRON+(\\w+)',x[\"de_para\"])) if x[\"de_para\"].find('ELECTRON')>=0 else\n",
    "#                                                     (' '.join(re.findall(r'^PIX+\\b.+QRS+(\\b.+[a-zA-Z])',x[\"de_para\"])) if x[\"de_para\"].find('PIX QRS')>=0 else\n",
    "#                                                      (' '.join(re.findall(r'^PIX+\\b.+TRANSF+(\\b.+[a-zA-Z]+)',x[\"de_para\"])) if x[\"de_para\"].find('PIX TRANSF')>=0 else\n",
    "#                                                         ' '.join(re.findall(r'^(\\w+)',x[\"de_para\"])))\n",
    "#                                                                  )\n",
    "#                                                         ,axis=1)"
   ]
  },
  {
   "cell_type": "code",
   "execution_count": 92,
   "metadata": {},
   "outputs": [
    {
     "data": {
      "text/html": [
       "<div>\n",
       "<style scoped>\n",
       "    .dataframe tbody tr th:only-of-type {\n",
       "        vertical-align: middle;\n",
       "    }\n",
       "\n",
       "    .dataframe tbody tr th {\n",
       "        vertical-align: top;\n",
       "    }\n",
       "\n",
       "    .dataframe thead th {\n",
       "        text-align: right;\n",
       "    }\n",
       "</style>\n",
       "<table border=\"1\" class=\"dataframe\">\n",
       "  <thead>\n",
       "    <tr style=\"text-align: right;\">\n",
       "      <th></th>\n",
       "      <th>de_para</th>\n",
       "      <th>valor</th>\n",
       "      <th>f0_</th>\n",
       "      <th>dt_mes_base</th>\n",
       "    </tr>\n",
       "  </thead>\n",
       "  <tbody>\n",
       "    <tr>\n",
       "      <th>59</th>\n",
       "      <td>001</td>\n",
       "      <td>001</td>\n",
       "      <td>credito</td>\n",
       "      <td>2023-05-01</td>\n",
       "    </tr>\n",
       "    <tr>\n",
       "      <th>210</th>\n",
       "      <td>001</td>\n",
       "      <td>001</td>\n",
       "      <td>credito</td>\n",
       "      <td>2023-07-01</td>\n",
       "    </tr>\n",
       "    <tr>\n",
       "      <th>356</th>\n",
       "      <td>Fgr Comercio-ct   01/03</td>\n",
       "      <td>Fgr</td>\n",
       "      <td>credito</td>\n",
       "      <td>2023-09-01</td>\n",
       "    </tr>\n",
       "    <tr>\n",
       "      <th>361</th>\n",
       "      <td>Google Cloud 98nxrw</td>\n",
       "      <td>Google</td>\n",
       "      <td>credito</td>\n",
       "      <td>2023-09-01</td>\n",
       "    </tr>\n",
       "    <tr>\n",
       "      <th>452</th>\n",
       "      <td>M Jarouche Comercio(03/03)</td>\n",
       "      <td>M</td>\n",
       "      <td>credito</td>\n",
       "      <td>2023-10-01</td>\n",
       "    </tr>\n",
       "    <tr>\n",
       "      <th>454</th>\n",
       "      <td>Artemis Comercio De(03/03)</td>\n",
       "      <td>Artemis</td>\n",
       "      <td>credito</td>\n",
       "      <td>2023-10-01</td>\n",
       "    </tr>\n",
       "    <tr>\n",
       "      <th>455</th>\n",
       "      <td>Mp *klmcentr-ct O  (03/04)</td>\n",
       "      <td>Mp</td>\n",
       "      <td>credito</td>\n",
       "      <td>2023-10-01</td>\n",
       "    </tr>\n",
       "    <tr>\n",
       "      <th>456</th>\n",
       "      <td>Aluguel            (03/06)</td>\n",
       "      <td>Aluguel</td>\n",
       "      <td>credito</td>\n",
       "      <td>2023-10-01</td>\n",
       "    </tr>\n",
       "    <tr>\n",
       "      <th>461</th>\n",
       "      <td>Fgr Comercio-ct    (02/03)</td>\n",
       "      <td>Fgr</td>\n",
       "      <td>credito</td>\n",
       "      <td>2023-10-01</td>\n",
       "    </tr>\n",
       "    <tr>\n",
       "      <th>679</th>\n",
       "      <td>Pag*geraldot-ct Atova</td>\n",
       "      <td>Pag</td>\n",
       "      <td>credito</td>\n",
       "      <td>2023-03-01</td>\n",
       "    </tr>\n",
       "    <tr>\n",
       "      <th>776</th>\n",
       "      <td>Fgr Comercio-ct    (03/03)</td>\n",
       "      <td>Fgr</td>\n",
       "      <td>credito</td>\n",
       "      <td>2023-11-01</td>\n",
       "    </tr>\n",
       "    <tr>\n",
       "      <th>777</th>\n",
       "      <td>Fgr Comercio-ct    (03/03)</td>\n",
       "      <td>Fgr</td>\n",
       "      <td>credito</td>\n",
       "      <td>2023-11-01</td>\n",
       "    </tr>\n",
       "    <tr>\n",
       "      <th>922</th>\n",
       "      <td>compras</td>\n",
       "      <td>compras</td>\n",
       "      <td>debito</td>\n",
       "      <td>2023-04-01</td>\n",
       "    </tr>\n",
       "    <tr>\n",
       "      <th>938</th>\n",
       "      <td>compras</td>\n",
       "      <td>compras</td>\n",
       "      <td>debito</td>\n",
       "      <td>2023-04-01</td>\n",
       "    </tr>\n",
       "  </tbody>\n",
       "</table>\n",
       "</div>"
      ],
      "text/plain": [
       "                        de_para    valor      f0_ dt_mes_base\n",
       "59                          001      001  credito  2023-05-01\n",
       "210                         001      001  credito  2023-07-01\n",
       "356     Fgr Comercio-ct   01/03      Fgr  credito  2023-09-01\n",
       "361         Google Cloud 98nxrw   Google  credito  2023-09-01\n",
       "452  M Jarouche Comercio(03/03)        M  credito  2023-10-01\n",
       "454  Artemis Comercio De(03/03)  Artemis  credito  2023-10-01\n",
       "455  Mp *klmcentr-ct O  (03/04)       Mp  credito  2023-10-01\n",
       "456  Aluguel            (03/06)  Aluguel  credito  2023-10-01\n",
       "461  Fgr Comercio-ct    (02/03)      Fgr  credito  2023-10-01\n",
       "679       Pag*geraldot-ct Atova      Pag  credito  2023-03-01\n",
       "776  Fgr Comercio-ct    (03/03)      Fgr  credito  2023-11-01\n",
       "777  Fgr Comercio-ct    (03/03)      Fgr  credito  2023-11-01\n",
       "922                     compras  compras   debito  2023-04-01\n",
       "938                     compras  compras   debito  2023-04-01"
      ]
     },
     "execution_count": 92,
     "metadata": {},
     "output_type": "execute_result"
    }
   ],
   "source": [
    "dfnull"
   ]
  },
  {
   "cell_type": "code",
   "execution_count": 68,
   "metadata": {},
   "outputs": [],
   "source": [
    "dfnonull=df[(df[\"valor\"].notnull())]"
   ]
  },
  {
   "cell_type": "code",
   "execution_count": 71,
   "metadata": {},
   "outputs": [],
   "source": [
    "df_new = pd.concat([dfnonull, dfnull])"
   ]
  },
  {
   "cell_type": "code",
   "execution_count": 72,
   "metadata": {},
   "outputs": [],
   "source": [
    "#escrever novos info no csv existente - mode='a'\n",
    "\n",
    "import csv\n",
    "df_new.to_csv(f'{path_src}/csv/type_ia_v2.csv',sep=';', encoding='utf-8', header=True, index=False,    quoting=csv.QUOTE_NONNUMERIC,\n",
    "    escapechar=\"\\\\\",\n",
    "    doublequote=False, mode='w')"
   ]
  },
  {
   "cell_type": "code",
   "execution_count": 75,
   "metadata": {},
   "outputs": [],
   "source": [
    "df = pd.read_csv(f'{path_src}/csv/type_ia_v2.csv', sep=';', usecols=['de_para','valor'])#window incluir ecoding\n",
    "# # encoding='latin-1'\n",
    "# # configurar ';', e incluir aspas duplas '\"', e tipo iso-8859-1\n",
    "# df_type = df_type[(df_type[\"valor\"].notnull())].drop_duplicates()#.unique() | .notnull() | .isnull()\n"
   ]
  },
  {
   "cell_type": "code",
   "execution_count": 76,
   "metadata": {},
   "outputs": [
    {
     "name": "stdout",
     "output_type": "stream",
     "text": [
      "df 1444\n",
      "nulo 0\n",
      "not nulo 1444\n"
     ]
    }
   ],
   "source": [
    "print('df',len(df))\n",
    "print('nulo',len(df[(df[\"valor\"].isnull())]))\n",
    "print('not nulo',len(df[(df[\"valor\"].notnull())]))"
   ]
  },
  {
   "cell_type": "code",
   "execution_count": null,
   "metadata": {},
   "outputs": [],
   "source": [
    "# df_type[\"valor\"] = df_type.apply(lambda x: \"debito_comercio\" if x[\"de_para\"].find('ELECTRON')>=0 else \n",
    "#                                 ( \"Shopee\" if x[\"de_para\"].find('PIX QRS Shopee')>=0 else \n",
    "#                                 ( \"pix\" if x[\"de_para\"].find('PIX')>=0 else x[\"de_para\"]))\n",
    "#                                 ,axis=1)\n",
    "# df_type=df_type[df_type['valor'].notnull()].copy()"
   ]
  },
  {
   "cell_type": "code",
   "execution_count": null,
   "metadata": {},
   "outputs": [],
   "source": [
    "# import re\n",
    "# df_type[\"valor\"] = df_type.apply(lambda x: ' '.join(re.findall(r'^Pag+\\*(\\w+)',x[\"de_para\"])) if x[\"de_para\"].find('Pag*')>=0 else \n",
    "#                                                         ' '.join(re.findall(r'^(\\w+)',x[\"de_para\"])\n",
    "#                                                                  )\n",
    "#                                                         ,axis=1)"
   ]
  },
  {
   "cell_type": "code",
   "execution_count": null,
   "metadata": {},
   "outputs": [],
   "source": [
    "# #escrever novo csv - mode='w'\n",
    "# import csv\n",
    "# df_type.to_csv(f'{path_src}/csv/type_ia_v2.csv',sep=';', encoding='utf-8', header=True, index=False,    quoting=csv.QUOTE_NONNUMERIC,\n",
    "#     escapechar=\"\\\\\",\n",
    "#     doublequote=False, mode='a')"
   ]
  },
  {
   "cell_type": "code",
   "execution_count": 157,
   "metadata": {},
   "outputs": [],
   "source": [
    "#df_type_1aver = df_type[df_type['valor']!=\"compras\"].copy()"
   ]
  },
  {
   "cell_type": "code",
   "execution_count": 158,
   "metadata": {},
   "outputs": [],
   "source": [
    "#escrever novo csv - mode='w'\n",
    "# import csv\n",
    "# df_type_1aver.to_csv(f'{path_src}/csv/type_ia_v2.csv',sep=';', encoding='utf-8', header=True, index=False,    quoting=csv.QUOTE_NONNUMERIC,\n",
    "#     escapechar=\"\\\\\",\n",
    "#     doublequote=False, mode='w')"
   ]
  },
  {
   "cell_type": "code",
   "execution_count": 159,
   "metadata": {},
   "outputs": [
    {
     "ename": "ValueError",
     "evalue": "Columns must be same length as key",
     "output_type": "error",
     "traceback": [
      "\u001b[1;31m---------------------------------------------------------------------------\u001b[0m",
      "\u001b[1;31mValueError\u001b[0m                                Traceback (most recent call last)",
      "\u001b[1;32m~\\AppData\\Local\\Temp\\ipykernel_14720\\3535647308.py\u001b[0m in \u001b[0;36m?\u001b[1;34m()\u001b[0m\n\u001b[0;32m      1\u001b[0m \u001b[0mdf_type_2aver\u001b[0m\u001b[1;33m=\u001b[0m\u001b[0mdf_type\u001b[0m\u001b[1;33m[\u001b[0m\u001b[0mdf_type\u001b[0m\u001b[1;33m[\u001b[0m\u001b[1;34m'valor'\u001b[0m\u001b[1;33m]\u001b[0m\u001b[1;33m==\u001b[0m\u001b[1;34m\"compras\"\u001b[0m\u001b[1;33m]\u001b[0m\u001b[1;33m.\u001b[0m\u001b[0mcopy\u001b[0m\u001b[1;33m(\u001b[0m\u001b[1;33m)\u001b[0m\u001b[1;33m\u001b[0m\u001b[1;33m\u001b[0m\u001b[0m\n\u001b[1;32m----> 2\u001b[1;33m df_type_2aver[\"valor\"] = df_type_2aver.apply(lambda x: \"debito_comercio\" if x[\"de_para\"].find('ELECTRON')>=0 else \n\u001b[0m\u001b[0;32m      3\u001b[0m                                  (\"Shopee\" if x[\"de_para\"].find('PIX QRS Shopee')>=0 else \n\u001b[0;32m      4\u001b[0m                                 ( \"pix\" if x[\"de_para\"].find('PIX')>=0 else None))\n\u001b[0;32m      5\u001b[0m                                 ,axis=1)\n",
      "\u001b[1;32mc:\\Users\\andre\\Documents\\github\\my-money-family\\env\\Lib\\site-packages\\pandas\\core\\frame.py\u001b[0m in \u001b[0;36m?\u001b[1;34m(self, key, value)\u001b[0m\n\u001b[0;32m   3936\u001b[0m             \u001b[0mself\u001b[0m\u001b[1;33m.\u001b[0m\u001b[0m_setitem_frame\u001b[0m\u001b[1;33m(\u001b[0m\u001b[0mkey\u001b[0m\u001b[1;33m,\u001b[0m \u001b[0mvalue\u001b[0m\u001b[1;33m)\u001b[0m\u001b[1;33m\u001b[0m\u001b[1;33m\u001b[0m\u001b[0m\n\u001b[0;32m   3937\u001b[0m         \u001b[1;32melif\u001b[0m \u001b[0misinstance\u001b[0m\u001b[1;33m(\u001b[0m\u001b[0mkey\u001b[0m\u001b[1;33m,\u001b[0m \u001b[1;33m(\u001b[0m\u001b[0mSeries\u001b[0m\u001b[1;33m,\u001b[0m \u001b[0mnp\u001b[0m\u001b[1;33m.\u001b[0m\u001b[0mndarray\u001b[0m\u001b[1;33m,\u001b[0m \u001b[0mlist\u001b[0m\u001b[1;33m,\u001b[0m \u001b[0mIndex\u001b[0m\u001b[1;33m)\u001b[0m\u001b[1;33m)\u001b[0m\u001b[1;33m:\u001b[0m\u001b[1;33m\u001b[0m\u001b[1;33m\u001b[0m\u001b[0m\n\u001b[0;32m   3938\u001b[0m             \u001b[0mself\u001b[0m\u001b[1;33m.\u001b[0m\u001b[0m_setitem_array\u001b[0m\u001b[1;33m(\u001b[0m\u001b[0mkey\u001b[0m\u001b[1;33m,\u001b[0m \u001b[0mvalue\u001b[0m\u001b[1;33m)\u001b[0m\u001b[1;33m\u001b[0m\u001b[1;33m\u001b[0m\u001b[0m\n\u001b[0;32m   3939\u001b[0m         \u001b[1;32melif\u001b[0m \u001b[0misinstance\u001b[0m\u001b[1;33m(\u001b[0m\u001b[0mvalue\u001b[0m\u001b[1;33m,\u001b[0m \u001b[0mDataFrame\u001b[0m\u001b[1;33m)\u001b[0m\u001b[1;33m:\u001b[0m\u001b[1;33m\u001b[0m\u001b[1;33m\u001b[0m\u001b[0m\n\u001b[1;32m-> 3940\u001b[1;33m             \u001b[0mself\u001b[0m\u001b[1;33m.\u001b[0m\u001b[0m_set_item_frame_value\u001b[0m\u001b[1;33m(\u001b[0m\u001b[0mkey\u001b[0m\u001b[1;33m,\u001b[0m \u001b[0mvalue\u001b[0m\u001b[1;33m)\u001b[0m\u001b[1;33m\u001b[0m\u001b[1;33m\u001b[0m\u001b[0m\n\u001b[0m\u001b[0;32m   3941\u001b[0m         elif (\n\u001b[0;32m   3942\u001b[0m             \u001b[0mis_list_like\u001b[0m\u001b[1;33m(\u001b[0m\u001b[0mvalue\u001b[0m\u001b[1;33m)\u001b[0m\u001b[1;33m\u001b[0m\u001b[1;33m\u001b[0m\u001b[0m\n\u001b[0;32m   3943\u001b[0m             \u001b[1;32mand\u001b[0m \u001b[1;32mnot\u001b[0m \u001b[0mself\u001b[0m\u001b[1;33m.\u001b[0m\u001b[0mcolumns\u001b[0m\u001b[1;33m.\u001b[0m\u001b[0mis_unique\u001b[0m\u001b[1;33m\u001b[0m\u001b[1;33m\u001b[0m\u001b[0m\n",
      "\u001b[1;32mc:\\Users\\andre\\Documents\\github\\my-money-family\\env\\Lib\\site-packages\\pandas\\core\\frame.py\u001b[0m in \u001b[0;36m?\u001b[1;34m(self, key, value)\u001b[0m\n\u001b[0;32m   4065\u001b[0m             \u001b[0mloc\u001b[0m \u001b[1;33m=\u001b[0m \u001b[0mself\u001b[0m\u001b[1;33m.\u001b[0m\u001b[0mcolumns\u001b[0m\u001b[1;33m.\u001b[0m\u001b[0mget_loc\u001b[0m\u001b[1;33m(\u001b[0m\u001b[0mkey\u001b[0m\u001b[1;33m)\u001b[0m\u001b[1;33m\u001b[0m\u001b[1;33m\u001b[0m\u001b[0m\n\u001b[0;32m   4066\u001b[0m             \u001b[0mcols\u001b[0m \u001b[1;33m=\u001b[0m \u001b[0mself\u001b[0m\u001b[1;33m.\u001b[0m\u001b[0mcolumns\u001b[0m\u001b[1;33m[\u001b[0m\u001b[0mloc\u001b[0m\u001b[1;33m]\u001b[0m\u001b[1;33m\u001b[0m\u001b[1;33m\u001b[0m\u001b[0m\n\u001b[0;32m   4067\u001b[0m             \u001b[0mlen_cols\u001b[0m \u001b[1;33m=\u001b[0m \u001b[1;36m1\u001b[0m \u001b[1;32mif\u001b[0m \u001b[0mis_scalar\u001b[0m\u001b[1;33m(\u001b[0m\u001b[0mcols\u001b[0m\u001b[1;33m)\u001b[0m \u001b[1;32mor\u001b[0m \u001b[0misinstance\u001b[0m\u001b[1;33m(\u001b[0m\u001b[0mcols\u001b[0m\u001b[1;33m,\u001b[0m \u001b[0mtuple\u001b[0m\u001b[1;33m)\u001b[0m \u001b[1;32melse\u001b[0m \u001b[0mlen\u001b[0m\u001b[1;33m(\u001b[0m\u001b[0mcols\u001b[0m\u001b[1;33m)\u001b[0m\u001b[1;33m\u001b[0m\u001b[1;33m\u001b[0m\u001b[0m\n\u001b[0;32m   4068\u001b[0m             \u001b[1;32mif\u001b[0m \u001b[0mlen_cols\u001b[0m \u001b[1;33m!=\u001b[0m \u001b[0mlen\u001b[0m\u001b[1;33m(\u001b[0m\u001b[0mvalue\u001b[0m\u001b[1;33m.\u001b[0m\u001b[0mcolumns\u001b[0m\u001b[1;33m)\u001b[0m\u001b[1;33m:\u001b[0m\u001b[1;33m\u001b[0m\u001b[1;33m\u001b[0m\u001b[0m\n\u001b[1;32m-> 4069\u001b[1;33m                 \u001b[1;32mraise\u001b[0m \u001b[0mValueError\u001b[0m\u001b[1;33m(\u001b[0m\u001b[1;34m\"Columns must be same length as key\"\u001b[0m\u001b[1;33m)\u001b[0m\u001b[1;33m\u001b[0m\u001b[1;33m\u001b[0m\u001b[0m\n\u001b[0m\u001b[0;32m   4070\u001b[0m \u001b[1;33m\u001b[0m\u001b[0m\n\u001b[0;32m   4071\u001b[0m             \u001b[1;31m# align right-hand-side columns if self.columns\u001b[0m\u001b[1;33m\u001b[0m\u001b[1;33m\u001b[0m\u001b[0m\n\u001b[0;32m   4072\u001b[0m             \u001b[1;31m# is multi-index and self[key] is a sub-frame\u001b[0m\u001b[1;33m\u001b[0m\u001b[1;33m\u001b[0m\u001b[0m\n",
      "\u001b[1;31mValueError\u001b[0m: Columns must be same length as key"
     ]
    }
   ],
   "source": [
    "# df_type_2aver=df_type[df_type['valor']==\"compras\"].copy()\n",
    "# if len(df_type_2aver)>0:\n",
    "#     df_type_2aver[\"valor\"] = df_type_2aver.apply(lambda x: \"debito_comercio\" if x[\"de_para\"].find('ELECTRON')>=0 else \n",
    "#                                     (\"Shopee\" if x[\"de_para\"].find('PIX QRS Shopee')>=0 else \n",
    "#                                     ( \"pix\" if x[\"de_para\"].find('PIX')>=0 else None))\n",
    "#                                     ,axis=1)\n",
    "#     df_type_2aver=df_type_2aver[df_type_2aver['valor'].notnull()].copy()\n"
   ]
  }
 ],
 "metadata": {
  "kernelspec": {
   "display_name": "env",
   "language": "python",
   "name": "python3"
  },
  "language_info": {
   "codemirror_mode": {
    "name": "ipython",
    "version": 3
   },
   "file_extension": ".py",
   "mimetype": "text/x-python",
   "name": "python",
   "nbconvert_exporter": "python",
   "pygments_lexer": "ipython3",
   "version": "3.11.8"
  },
  "orig_nbformat": 4
 },
 "nbformat": 4,
 "nbformat_minor": 2
}
