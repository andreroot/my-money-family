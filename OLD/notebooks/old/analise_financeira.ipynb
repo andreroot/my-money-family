{
 "cells": [
  {
   "cell_type": "code",
   "execution_count": 1,
   "metadata": {},
   "outputs": [],
   "source": [
    "import pandas as pd   \n",
    "import pandas_gbq as pgbq \n",
    "import os\n",
    "import re\n",
    "import sys"
   ]
  },
  {
   "cell_type": "code",
   "execution_count": 2,
   "metadata": {},
   "outputs": [],
   "source": [
    "path_note = os.getcwd()\n",
    "path_src = re.sub(r'(.)notebooks','',path_note)\n",
    "sys.path.append(os.path.abspath(f'{path_src}/'))"
   ]
  },
  {
   "cell_type": "code",
   "execution_count": 3,
   "metadata": {},
   "outputs": [],
   "source": [
    "from fin_api import consulta_gcp\n",
    "strsql = '''   select descricao\n",
    "        , dt_recebido \n",
    "        , dt_mes_base\n",
    "        , valor_recebido\n",
    "        , row_number() over (partition by descricao,\tdt_recebido\t, cast(valor_recebido as string),\tdt_mes_base order by process_time desc) ordem\n",
    "        , row_number() over (partition by \tdt_mes_base\t order by dt_recebido desc) ordem_recebimento\n",
    "    from `devsamelo2.dev_domestico.recebido_2024_excel`\n",
    "    '''\n",
    "\n",
    "df = consulta_gcp(strsql)"
   ]
  },
  {
   "cell_type": "code",
   "execution_count": 10,
   "metadata": {},
   "outputs": [
    {
     "data": {
      "text/html": [
       "<div>\n",
       "<style scoped>\n",
       "    .dataframe tbody tr th:only-of-type {\n",
       "        vertical-align: middle;\n",
       "    }\n",
       "\n",
       "    .dataframe tbody tr th {\n",
       "        vertical-align: top;\n",
       "    }\n",
       "\n",
       "    .dataframe thead th {\n",
       "        text-align: right;\n",
       "    }\n",
       "</style>\n",
       "<table border=\"1\" class=\"dataframe\">\n",
       "  <thead>\n",
       "    <tr style=\"text-align: right;\">\n",
       "      <th></th>\n",
       "      <th>descricao</th>\n",
       "      <th>dt_recebido</th>\n",
       "      <th>dt_mes_base</th>\n",
       "      <th>valor_recebido</th>\n",
       "      <th>ordem</th>\n",
       "      <th>ordem_recebimento</th>\n",
       "    </tr>\n",
       "  </thead>\n",
       "  <tbody>\n",
       "    <tr>\n",
       "      <th>3</th>\n",
       "      <td>PIX TRANSF  Matheus25/01</td>\n",
       "      <td>2024-01-26</td>\n",
       "      <td>2024-01-01</td>\n",
       "      <td>50.00</td>\n",
       "      <td>1</td>\n",
       "      <td>4</td>\n",
       "    </tr>\n",
       "    <tr>\n",
       "      <th>11</th>\n",
       "      <td>PAGTO SALARIO</td>\n",
       "      <td>2024-01-15</td>\n",
       "      <td>2024-01-01</td>\n",
       "      <td>4115.42</td>\n",
       "      <td>1</td>\n",
       "      <td>12</td>\n",
       "    </tr>\n",
       "    <tr>\n",
       "      <th>14</th>\n",
       "      <td>PIX TRANSF  MICHELL10/01</td>\n",
       "      <td>2024-01-10</td>\n",
       "      <td>2024-01-01</td>\n",
       "      <td>310.00</td>\n",
       "      <td>1</td>\n",
       "      <td>15</td>\n",
       "    </tr>\n",
       "    <tr>\n",
       "      <th>18</th>\n",
       "      <td>PAGTO SALARIO</td>\n",
       "      <td>2024-01-05</td>\n",
       "      <td>2024-01-01</td>\n",
       "      <td>2409.98</td>\n",
       "      <td>1</td>\n",
       "      <td>19</td>\n",
       "    </tr>\n",
       "    <tr>\n",
       "      <th>22</th>\n",
       "      <td>PIX TRANSF  MICHELL20/02</td>\n",
       "      <td>2024-02-20</td>\n",
       "      <td>2024-02-01</td>\n",
       "      <td>500.00</td>\n",
       "      <td>1</td>\n",
       "      <td>1</td>\n",
       "    </tr>\n",
       "    <tr>\n",
       "      <th>25</th>\n",
       "      <td>PAGTO EM CONTA CORRENTE</td>\n",
       "      <td>2024-02-15</td>\n",
       "      <td>2024-02-01</td>\n",
       "      <td>4115.42</td>\n",
       "      <td>1</td>\n",
       "      <td>4</td>\n",
       "    </tr>\n",
       "    <tr>\n",
       "      <th>29</th>\n",
       "      <td>PAGTO SALARIO</td>\n",
       "      <td>2024-02-05</td>\n",
       "      <td>2024-02-01</td>\n",
       "      <td>2889.18</td>\n",
       "      <td>1</td>\n",
       "      <td>8</td>\n",
       "    </tr>\n",
       "    <tr>\n",
       "      <th>31</th>\n",
       "      <td>TED 104.0000CAIXA ECON F</td>\n",
       "      <td>2024-02-01</td>\n",
       "      <td>2024-02-01</td>\n",
       "      <td>152.76</td>\n",
       "      <td>1</td>\n",
       "      <td>10</td>\n",
       "    </tr>\n",
       "  </tbody>\n",
       "</table>\n",
       "</div>"
      ],
      "text/plain": [
       "                   descricao dt_recebido dt_mes_base  valor_recebido  ordem  \\\n",
       "3   PIX TRANSF  Matheus25/01  2024-01-26  2024-01-01           50.00      1   \n",
       "11             PAGTO SALARIO  2024-01-15  2024-01-01         4115.42      1   \n",
       "14  PIX TRANSF  MICHELL10/01  2024-01-10  2024-01-01          310.00      1   \n",
       "18             PAGTO SALARIO  2024-01-05  2024-01-01         2409.98      1   \n",
       "22  PIX TRANSF  MICHELL20/02  2024-02-20  2024-02-01          500.00      1   \n",
       "25   PAGTO EM CONTA CORRENTE  2024-02-15  2024-02-01         4115.42      1   \n",
       "29             PAGTO SALARIO  2024-02-05  2024-02-01         2889.18      1   \n",
       "31  TED 104.0000CAIXA ECON F  2024-02-01  2024-02-01          152.76      1   \n",
       "\n",
       "    ordem_recebimento  \n",
       "3                   4  \n",
       "11                 12  \n",
       "14                 15  \n",
       "18                 19  \n",
       "22                  1  \n",
       "25                  4  \n",
       "29                  8  \n",
       "31                 10  "
      ]
     },
     "execution_count": 10,
     "metadata": {},
     "output_type": "execute_result"
    }
   ],
   "source": [
    "df[df['valor_recebido']>=2]"
   ]
  },
  {
   "cell_type": "code",
   "execution_count": 9,
   "metadata": {},
   "outputs": [
    {
     "data": {
      "text/plain": [
       "14545.82"
      ]
     },
     "execution_count": 9,
     "metadata": {},
     "output_type": "execute_result"
    }
   ],
   "source": [
    "df[df['valor_recebido']>=1]['valor_recebido'].sum()\n",
    "#df[['dt_mes_base', 'valor_recebido', 'valor_custo_real', 'saldo_real']].sort_values('dt_mes_base', ascending=False) #.reset_index(inplace=True , drop=True)#"
   ]
  },
  {
   "cell_type": "code",
   "execution_count": 14,
   "metadata": {},
   "outputs": [
    {
     "data": {
      "text/plain": [
       "13530.0"
      ]
     },
     "execution_count": 14,
     "metadata": {},
     "output_type": "execute_result"
    }
   ],
   "source": [
    "df[df['descricao'].str.contains(r'PAGTO[^\\\\b]+\\w+')==True]['valor_recebido'].sum()\n",
    "#.str.contains(r'SALDO[^\\\\b]+\\w|APL[^\\\\b]APLIC[^\\\\b]AUT[^\\\\b]MAIS|RES[^\\\\b]APLIC[^\\\\b]AUT[^\\\\b]MAIS|REND[^\\\\b]PAGO[^\\\\b]APLIC[^\\\\b]AUT[^\\\\b]MAIS')==False]"
   ]
  },
  {
   "cell_type": "code",
   "execution_count": 15,
   "metadata": {},
   "outputs": [
    {
     "data": {
      "text/plain": [
       "1020.0"
      ]
     },
     "execution_count": 15,
     "metadata": {},
     "output_type": "execute_result"
    }
   ],
   "source": [
    "df[df['descricao'].str.contains(r'PAGTO[^\\\\b]+\\w+')==False]['valor_recebido'].sum()\n"
   ]
  }
 ],
 "metadata": {
  "kernelspec": {
   "display_name": "env",
   "language": "python",
   "name": "python3"
  },
  "language_info": {
   "codemirror_mode": {
    "name": "ipython",
    "version": 3
   },
   "file_extension": ".py",
   "mimetype": "text/x-python",
   "name": "python",
   "nbconvert_exporter": "python",
   "pygments_lexer": "ipython3",
   "version": "3.11.8"
  },
  "orig_nbformat": 4
 },
 "nbformat": 4,
 "nbformat_minor": 2
}
