{
 "cells": [
  {
   "cell_type": "code",
   "execution_count": null,
   "metadata": {},
   "outputs": [],
   "source": [
    "from PIL import Image # Importando o módulo Pillow para abrir a imagem no script\n",
    "\n",
    "import pytesseract # Módulo para a utilização da tecnologia OCR\n",
    "\n",
    "\n",
    "pytesseract.pytesseract.tesseract_cmd = r'C:\\\\Program Files\\\\Tesseract-OCR\\\\tesseract.exe'\n",
    "\n",
    "print( pytesseract.image_to_string( Image.open('C:\\\\Users\\\\andre\\\\Documents\\\\github\\\\my-money-family\\\\admin\\\\src\\\\imagem\\\\Imagem do WhatsApp de 2024-11-04 à(s) 08.45.24_71de1389.jpg') ) ) # Extraindo o texto da imagem\n",
    "\n",
    "#\"C:\\Program Files\\Tesseract-OCR\\tesseract.exe\" \"C:\\Users\\andre\\Documents\\github\\my-money-family\\admin\\src\\imagem\\Imagem do WhatsApp de 2024-11-04 à(s) 08.45.24_71de1389.jpg\" \"C:\\Users\\andre\\Documents\\github\\my-money-family\\admin\\src\\imagem\\teste.txt\""
   ]
  },
  {
   "cell_type": "code",
   "execution_count": 2,
   "metadata": {},
   "outputs": [],
   "source": [
    "import pandas as pd   \n",
    "import pandas_gbq as pgbq \n",
    "import datetime as dt\n",
    "from datetime import timedelta, date\n",
    "import os\n",
    "import re\n",
    "import sys\n",
    "path_note = os.getcwd()\n",
    "path_src = re.sub(r'(.)notebooks','',path_note)\n",
    "path_src_resource = re.sub(r'(.)notebooks','\\/resource',path_note)\n",
    "path_src_imagem = re.sub(r'(.)notebooks','\\/imagem',path_note)"
   ]
  },
  {
   "cell_type": "code",
   "execution_count": 3,
   "metadata": {},
   "outputs": [],
   "source": [
    "import sys\n",
    "sys.path.append(os.path.abspath(f'{path_src}/'))\n",
    "sys.path.append(os.path.abspath(f'{path_src_resource}/'))\n",
    "sys.path.append(os.path.abspath(f'{path_src_imagem}/'))"
   ]
  },
  {
   "cell_type": "code",
   "execution_count": 28,
   "metadata": {},
   "outputs": [],
   "source": [
    "path_csv = 'C:\\\\Users\\\\andre\\\\Documents\\\\github\\\\my-money-family\\\\admin\\\\src\\\\imagem\\\\lista_compras.csv'"
   ]
  },
  {
   "cell_type": "code",
   "execution_count": 24,
   "metadata": {},
   "outputs": [],
   "source": [
    "import re\n",
    "#f= open(path_csv, \"r\")\n",
    "#print(f.read())\n",
    "with open(path_csv, \"r\") as linha:\n",
    "    for line in linha:\n",
    "        txt_csv = re.sub(r'UND\\d',';UND;', line) \n",
    "        txt_csv = re.sub(r'\\dX\\dL',';', txt_csv) \n"
   ]
  },
  {
   "cell_type": "code",
   "execution_count": 25,
   "metadata": {},
   "outputs": [
    {
     "data": {
      "text/plain": [
       "'056;00034808;LEITE L.V.ITALAC.INT ;          3 ;UND; X 5,45 16,35 (2,88)   ;16,35 ;2025-11-01;atacadao\\n'"
      ]
     },
     "execution_count": 25,
     "metadata": {},
     "output_type": "execute_result"
    }
   ],
   "source": [
    "txt_csv"
   ]
  },
  {
   "cell_type": "code",
   "execution_count": 29,
   "metadata": {},
   "outputs": [],
   "source": [
    "df_type = pd.read_csv(path_csv, sep=';', encoding='latin-1')"
   ]
  },
  {
   "cell_type": "code",
   "execution_count": 35,
   "metadata": {},
   "outputs": [],
   "source": [
    "df_type['valor'] = df_type['valor'].apply(lambda x: x.replace(',','.')).astype(float)"
   ]
  },
  {
   "cell_type": "code",
   "execution_count": 37,
   "metadata": {},
   "outputs": [
    {
     "data": {
      "text/plain": [
       "738.17"
      ]
     },
     "execution_count": 37,
     "metadata": {},
     "output_type": "execute_result"
    }
   ],
   "source": [
    "df_type['valor'].sum()"
   ]
  }
 ],
 "metadata": {
  "kernelspec": {
   "display_name": "env",
   "language": "python",
   "name": "python3"
  },
  "language_info": {
   "codemirror_mode": {
    "name": "ipython",
    "version": 3
   },
   "file_extension": ".py",
   "mimetype": "text/x-python",
   "name": "python",
   "nbconvert_exporter": "python",
   "pygments_lexer": "ipython3",
   "version": "3.11.4"
  }
 },
 "nbformat": 4,
 "nbformat_minor": 2
}
