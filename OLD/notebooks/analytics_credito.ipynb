{
 "cells": [
  {
   "cell_type": "code",
   "execution_count": 85,
   "metadata": {},
   "outputs": [],
   "source": [
    "import pandas as pd   \n",
    "import pandas_gbq as pgbq \n",
    "import datetime as dt\n",
    "from datetime import timedelta, date\n",
    "import os\n",
    "import re\n",
    "import sys\n",
    "path_note = os.getcwd()\n",
    "path_src = re.sub(r'(.)notebooks','',path_note)\n",
    "path_src_resource = re.sub(r'(.)notebooks','\\/v0',path_note)"
   ]
  },
  {
   "cell_type": "code",
   "execution_count": 86,
   "metadata": {},
   "outputs": [
    {
     "name": "stdout",
     "output_type": "stream",
     "text": [
      "c:\\Users\\andre\\Documents\\github\\my-money-family\\admin\\src\n",
      "c:\\Users\\andre\\Documents\\github\\my-money-family\\admin\\src\\v0\n"
     ]
    }
   ],
   "source": [
    "print(path_src)\n",
    "print(path_src_resource.replace('/',''))"
   ]
  },
  {
   "cell_type": "code",
   "execution_count": 87,
   "metadata": {},
   "outputs": [],
   "source": [
    "import sys\n",
    "sys.path.append(os.path.abspath(f'{path_src}/'))\n",
    "sys.path.append(os.path.abspath(f'{path_src_resource}/'))"
   ]
  },
  {
   "cell_type": "code",
   "execution_count": 88,
   "metadata": {},
   "outputs": [],
   "source": [
    "# from fin_api import consulta_excel\n",
    "# df = consulta_excel(path_src, 'custo_2024_01')\n",
    "# df"
   ]
  },
  {
   "cell_type": "code",
   "execution_count": 89,
   "metadata": {},
   "outputs": [],
   "source": [
    "from v0.resource.fin_api import consulta_gcp\n",
    "\n",
    "\n",
    "periodo=\"2025-01-01\"\n",
    "strsql = f\"SELECT * FROM dev_domestico.credito_2025_excel \"\n",
    "\n",
    "df = consulta_gcp(strsql)\n"
   ]
  },
  {
   "cell_type": "code",
   "execution_count": 90,
   "metadata": {},
   "outputs": [],
   "source": [
    "import datetime as dt\n",
    "df['week_br'] = pd.to_datetime(df[\"dt_credito\"]).dt.day_name()\n",
    "df['week_br'] = df.apply(lambda x: \"segunda-feira\" if x[\"week_br\"]==\"Monday\" else \n",
    "                             (\"terça-feira\" if x[\"week_br\"]==\"Tuesday\" else \n",
    "                             (\"quarta-feira\" if x[\"week_br\"]==\"Wednesday\" else \n",
    "                             (\"quinta-feira\" if x[\"week_br\"]==\"Thursday\" else \n",
    "                             (\"sexta-feira\" if x[\"week_br\"]==\"Friday\" else \n",
    "                             (\"sabado\" if x[\"week_br\"]==\"Saturday\" else \"domingo\"))))), axis=1)"
   ]
  },
  {
   "cell_type": "code",
   "execution_count": 91,
   "metadata": {},
   "outputs": [
    {
     "data": {
      "text/html": [
       "<div>\n",
       "<style scoped>\n",
       "    .dataframe tbody tr th:only-of-type {\n",
       "        vertical-align: middle;\n",
       "    }\n",
       "\n",
       "    .dataframe tbody tr th {\n",
       "        vertical-align: top;\n",
       "    }\n",
       "\n",
       "    .dataframe thead th {\n",
       "        text-align: right;\n",
       "    }\n",
       "</style>\n",
       "<table border=\"1\" class=\"dataframe\">\n",
       "  <thead>\n",
       "    <tr style=\"text-align: right;\">\n",
       "      <th></th>\n",
       "      <th>tipo_custo_credito</th>\n",
       "      <th>custo_credito</th>\n",
       "      <th>dt_mes_base</th>\n",
       "    </tr>\n",
       "  </thead>\n",
       "  <tbody>\n",
       "  </tbody>\n",
       "</table>\n",
       "</div>"
      ],
      "text/plain": [
       "Empty DataFrame\n",
       "Columns: [tipo_custo_credito, custo_credito, dt_mes_base]\n",
       "Index: []"
      ]
     },
     "execution_count": 91,
     "metadata": {},
     "output_type": "execute_result"
    }
   ],
   "source": [
    "df[['tipo_custo_credito','custo_credito','dt_mes_base']][(df[\"tipo_custo_credito\"].isnull())]#.to_csv('credito_nulo1.csv')"
   ]
  },
  {
   "cell_type": "code",
   "execution_count": 92,
   "metadata": {},
   "outputs": [],
   "source": [
    "df['tipo_custo_credito']=df.apply(lambda x: \"plataforma-gcp\" if x[\"tipo_custo_credito\"]=='plataforma-google' \n",
    "                                else ( \"plataforma-aws\" if x[\"tipo_custo_credito\"]=='plataforma-amazon' else x['tipo_custo_credito']), axis=1) #\"escola_futebol\" if  x[\"descricao\"].find('Chute Inicial')>=0"
   ]
  },
  {
   "cell_type": "code",
   "execution_count": 93,
   "metadata": {},
   "outputs": [],
   "source": [
    "#df[df['tipo_custo_credito'].str.contains(r'plataforma-+\\w')==True] #Dl*google Cloud\t\n",
    "#df[df['tipo_custo_credito']=='locadora-unidas'] #Dl*google Cloud\t\n",
    "\n"
   ]
  },
  {
   "cell_type": "code",
   "execution_count": 94,
   "metadata": {},
   "outputs": [
    {
     "data": {
      "text/html": [
       "<div>\n",
       "<style scoped>\n",
       "    .dataframe tbody tr th:only-of-type {\n",
       "        vertical-align: middle;\n",
       "    }\n",
       "\n",
       "    .dataframe tbody tr th {\n",
       "        vertical-align: top;\n",
       "    }\n",
       "\n",
       "    .dataframe thead th {\n",
       "        text-align: right;\n",
       "    }\n",
       "</style>\n",
       "<table border=\"1\" class=\"dataframe\">\n",
       "  <thead>\n",
       "    <tr style=\"text-align: right;\">\n",
       "      <th></th>\n",
       "      <th>valor_credito</th>\n",
       "    </tr>\n",
       "    <tr>\n",
       "      <th>dt_mes_base</th>\n",
       "      <th></th>\n",
       "    </tr>\n",
       "  </thead>\n",
       "  <tbody>\n",
       "  </tbody>\n",
       "</table>\n",
       "</div>"
      ],
      "text/plain": [
       "Empty DataFrame\n",
       "Columns: [valor_credito]\n",
       "Index: []"
      ]
     },
     "execution_count": 94,
     "metadata": {},
     "output_type": "execute_result"
    }
   ],
   "source": [
    "df[[\"dt_mes_base\",\"valor_credito\"]][(pd.to_datetime(df['dt_mes_base'])=='2024-05-01') & (~df['tipo_custo_credito'].isin(['credito']))].groupby(['dt_mes_base']).agg({\"valor_credito\":sum}).sort_values(\"valor_credito\", ascending=False)"
   ]
  },
  {
   "cell_type": "code",
   "execution_count": 95,
   "metadata": {},
   "outputs": [
    {
     "data": {
      "text/html": [
       "<div>\n",
       "<style scoped>\n",
       "    .dataframe tbody tr th:only-of-type {\n",
       "        vertical-align: middle;\n",
       "    }\n",
       "\n",
       "    .dataframe tbody tr th {\n",
       "        vertical-align: top;\n",
       "    }\n",
       "\n",
       "    .dataframe thead th {\n",
       "        text-align: right;\n",
       "    }\n",
       "</style>\n",
       "<table border=\"1\" class=\"dataframe\">\n",
       "  <thead>\n",
       "    <tr style=\"text-align: right;\">\n",
       "      <th></th>\n",
       "      <th>valor_credito</th>\n",
       "    </tr>\n",
       "    <tr>\n",
       "      <th>dt_mes_base</th>\n",
       "      <th></th>\n",
       "    </tr>\n",
       "  </thead>\n",
       "  <tbody>\n",
       "    <tr>\n",
       "      <th>2025-03-01</th>\n",
       "      <td>1217.23</td>\n",
       "    </tr>\n",
       "    <tr>\n",
       "      <th>2025-02-01</th>\n",
       "      <td>1107.34</td>\n",
       "    </tr>\n",
       "    <tr>\n",
       "      <th>2025-01-01</th>\n",
       "      <td>664.41</td>\n",
       "    </tr>\n",
       "  </tbody>\n",
       "</table>\n",
       "</div>"
      ],
      "text/plain": [
       "             valor_credito\n",
       "dt_mes_base               \n",
       "2025-03-01         1217.23\n",
       "2025-02-01         1107.34\n",
       "2025-01-01          664.41"
      ]
     },
     "execution_count": 95,
     "metadata": {},
     "output_type": "execute_result"
    }
   ],
   "source": [
    "df[[\"dt_mes_base\",\"valor_credito\"]].groupby(['dt_mes_base']).agg({\"valor_credito\":sum}).sort_values(\"valor_credito\", ascending=False)"
   ]
  },
  {
   "cell_type": "code",
   "execution_count": 96,
   "metadata": {},
   "outputs": [
    {
     "data": {
      "text/html": [
       "<div>\n",
       "<style scoped>\n",
       "    .dataframe tbody tr th:only-of-type {\n",
       "        vertical-align: middle;\n",
       "    }\n",
       "\n",
       "    .dataframe tbody tr th {\n",
       "        vertical-align: top;\n",
       "    }\n",
       "\n",
       "    .dataframe thead th {\n",
       "        text-align: right;\n",
       "    }\n",
       "</style>\n",
       "<table border=\"1\" class=\"dataframe\">\n",
       "  <thead>\n",
       "    <tr style=\"text-align: right;\">\n",
       "      <th></th>\n",
       "      <th>valor_credito</th>\n",
       "    </tr>\n",
       "    <tr>\n",
       "      <th>tipo_custo_credito</th>\n",
       "      <th></th>\n",
       "    </tr>\n",
       "  </thead>\n",
       "  <tbody>\n",
       "    <tr>\n",
       "      <th>emprestimo-celularmae</th>\n",
       "      <td>900.00</td>\n",
       "    </tr>\n",
       "    <tr>\n",
       "      <th>locadora-localiza</th>\n",
       "      <td>654.45</td>\n",
       "    </tr>\n",
       "    <tr>\n",
       "      <th>alimentacao-aniversario</th>\n",
       "      <td>255.00</td>\n",
       "    </tr>\n",
       "    <tr>\n",
       "      <th>app-google</th>\n",
       "      <td>193.98</td>\n",
       "    </tr>\n",
       "    <tr>\n",
       "      <th>mercado</th>\n",
       "      <td>166.68</td>\n",
       "    </tr>\n",
       "    <tr>\n",
       "      <th>igreja</th>\n",
       "      <td>161.36</td>\n",
       "    </tr>\n",
       "    <tr>\n",
       "      <th>locadora-unidas</th>\n",
       "      <td>160.16</td>\n",
       "    </tr>\n",
       "    <tr>\n",
       "      <th>plataforma-gcp</th>\n",
       "      <td>102.24</td>\n",
       "    </tr>\n",
       "    <tr>\n",
       "      <th>app-disney</th>\n",
       "      <td>87.80</td>\n",
       "    </tr>\n",
       "    <tr>\n",
       "      <th>plataforma-aws</th>\n",
       "      <td>81.55</td>\n",
       "    </tr>\n",
       "    <tr>\n",
       "      <th>gasolina</th>\n",
       "      <td>64.10</td>\n",
       "    </tr>\n",
       "    <tr>\n",
       "      <th>app-spotify</th>\n",
       "      <td>43.80</td>\n",
       "    </tr>\n",
       "    <tr>\n",
       "      <th>app-netflix</th>\n",
       "      <td>41.80</td>\n",
       "    </tr>\n",
       "    <tr>\n",
       "      <th>banco</th>\n",
       "      <td>31.16</td>\n",
       "    </tr>\n",
       "    <tr>\n",
       "      <th>app-youtube</th>\n",
       "      <td>24.90</td>\n",
       "    </tr>\n",
       "    <tr>\n",
       "      <th>comercio</th>\n",
       "      <td>20.00</td>\n",
       "    </tr>\n",
       "  </tbody>\n",
       "</table>\n",
       "</div>"
      ],
      "text/plain": [
       "                         valor_credito\n",
       "tipo_custo_credito                    \n",
       "emprestimo-celularmae           900.00\n",
       "locadora-localiza               654.45\n",
       "alimentacao-aniversario         255.00\n",
       "app-google                      193.98\n",
       "mercado                         166.68\n",
       "igreja                          161.36\n",
       "locadora-unidas                 160.16\n",
       "plataforma-gcp                  102.24\n",
       "app-disney                       87.80\n",
       "plataforma-aws                   81.55\n",
       "gasolina                         64.10\n",
       "app-spotify                      43.80\n",
       "app-netflix                      41.80\n",
       "banco                            31.16\n",
       "app-youtube                      24.90\n",
       "comercio                         20.00"
      ]
     },
     "execution_count": 96,
     "metadata": {},
     "output_type": "execute_result"
    }
   ],
   "source": [
    "df[[\"tipo_custo_credito\",\"valor_credito\"]].groupby(['tipo_custo_credito']).agg({\"valor_credito\":sum}).sort_values(\"valor_credito\", ascending=False)"
   ]
  },
  {
   "cell_type": "code",
   "execution_count": 97,
   "metadata": {},
   "outputs": [
    {
     "data": {
      "text/html": [
       "<div>\n",
       "<style scoped>\n",
       "    .dataframe tbody tr th:only-of-type {\n",
       "        vertical-align: middle;\n",
       "    }\n",
       "\n",
       "    .dataframe tbody tr th {\n",
       "        vertical-align: top;\n",
       "    }\n",
       "\n",
       "    .dataframe thead th {\n",
       "        text-align: right;\n",
       "    }\n",
       "</style>\n",
       "<table border=\"1\" class=\"dataframe\">\n",
       "  <thead>\n",
       "    <tr style=\"text-align: right;\">\n",
       "      <th></th>\n",
       "      <th>tipo_custo_credito</th>\n",
       "      <th>custo_credito</th>\n",
       "      <th>valor_credito</th>\n",
       "      <th>valor_credito_parc</th>\n",
       "      <th>dt_mes_base</th>\n",
       "      <th>dt_credito</th>\n",
       "      <th>process_time</th>\n",
       "      <th>week_br</th>\n",
       "    </tr>\n",
       "  </thead>\n",
       "  <tbody>\n",
       "    <tr>\n",
       "      <th>28</th>\n",
       "      <td>comercio</td>\n",
       "      <td>Franciscojosede</td>\n",
       "      <td>20.0</td>\n",
       "      <td>20.0</td>\n",
       "      <td>2025-02-01</td>\n",
       "      <td>2025-01-31</td>\n",
       "      <td>2025-02-12 12:45:28.838133+00:00</td>\n",
       "      <td>sexta-feira</td>\n",
       "    </tr>\n",
       "  </tbody>\n",
       "</table>\n",
       "</div>"
      ],
      "text/plain": [
       "   tipo_custo_credito    custo_credito  valor_credito  valor_credito_parc  \\\n",
       "28           comercio  Franciscojosede           20.0                20.0   \n",
       "\n",
       "   dt_mes_base  dt_credito                     process_time      week_br  \n",
       "28  2025-02-01  2025-01-31 2025-02-12 12:45:28.838133+00:00  sexta-feira  "
      ]
     },
     "execution_count": 97,
     "metadata": {},
     "output_type": "execute_result"
    }
   ],
   "source": [
    "df[df['tipo_custo_credito']=='comercio']"
   ]
  },
  {
   "cell_type": "code",
   "execution_count": 98,
   "metadata": {},
   "outputs": [
    {
     "data": {
      "text/html": [
       "<div>\n",
       "<style scoped>\n",
       "    .dataframe tbody tr th:only-of-type {\n",
       "        vertical-align: middle;\n",
       "    }\n",
       "\n",
       "    .dataframe tbody tr th {\n",
       "        vertical-align: top;\n",
       "    }\n",
       "\n",
       "    .dataframe thead th {\n",
       "        text-align: right;\n",
       "    }\n",
       "</style>\n",
       "<table border=\"1\" class=\"dataframe\">\n",
       "  <thead>\n",
       "    <tr style=\"text-align: right;\">\n",
       "      <th></th>\n",
       "      <th></th>\n",
       "      <th>valor_credito</th>\n",
       "    </tr>\n",
       "    <tr>\n",
       "      <th>dt_mes_base</th>\n",
       "      <th>tipo_custo_credito</th>\n",
       "      <th></th>\n",
       "    </tr>\n",
       "  </thead>\n",
       "  <tbody>\n",
       "  </tbody>\n",
       "</table>\n",
       "</div>"
      ],
      "text/plain": [
       "Empty DataFrame\n",
       "Columns: [valor_credito]\n",
       "Index: []"
      ]
     },
     "execution_count": 98,
     "metadata": {},
     "output_type": "execute_result"
    }
   ],
   "source": [
    "df[[\"dt_mes_base\",\"tipo_custo_credito\",\"valor_credito\"]][(pd.to_datetime(df['dt_mes_base'])=='2024-07-01')].groupby(['dt_mes_base','tipo_custo_credito']).agg({\"valor_credito\":sum}).sort_values(\"valor_credito\", ascending=False)"
   ]
  }
 ],
 "metadata": {
  "kernelspec": {
   "display_name": "env",
   "language": "python",
   "name": "python3"
  },
  "language_info": {
   "codemirror_mode": {
    "name": "ipython",
    "version": 3
   },
   "file_extension": ".py",
   "mimetype": "text/x-python",
   "name": "python",
   "nbconvert_exporter": "python",
   "pygments_lexer": "ipython3",
   "version": "3.11.9"
  },
  "orig_nbformat": 4,
  "vscode": {
   "interpreter": {
    "hash": "268ab01c0d1568052fde17b27b7cfc10139e4612f952501a45d2fe6145ce40b7"
   }
  }
 },
 "nbformat": 4,
 "nbformat_minor": 2
}
