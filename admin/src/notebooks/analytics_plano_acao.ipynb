{
 "cells": [
  {
   "cell_type": "code",
   "execution_count": 2,
   "metadata": {},
   "outputs": [],
   "source": [
    "import pandas as pd   \n",
    "import pandas_gbq as pgbq \n",
    "import os\n",
    "import re\n",
    "import sys\n",
    "path_note = os.getcwd()\n",
    "path_src = re.sub(r'(.)notebooks','',path_note)\n",
    "path_src_resource = re.sub(r'(.)notebooks','\\/v0',path_note)\n",
    "#path_src_resource = re.sub(r'(.)notebooks','\\/v0\\/resource',path_note)"
   ]
  },
  {
   "cell_type": "code",
   "execution_count": 3,
   "metadata": {},
   "outputs": [
    {
     "name": "stdout",
     "output_type": "stream",
     "text": [
      "c:\\Users\\andre\\Documents\\github\\my-money-family\\admin\\src\\v0\n"
     ]
    }
   ],
   "source": [
    "print(path_src_resource.replace('/',''))"
   ]
  },
  {
   "cell_type": "code",
   "execution_count": 4,
   "metadata": {},
   "outputs": [],
   "source": [
    "import sys\n",
    "sys.path.append(os.path.abspath(f'{path_src}/'))\n",
    "sys.path.append(os.path.abspath(f'{path_src_resource}/'))"
   ]
  },
  {
   "cell_type": "code",
   "execution_count": 5,
   "metadata": {},
   "outputs": [],
   "source": [
    "from v0.resource.myprocessanalytics_v0 import process, analytics_percent_geral\n",
    "strsql = f\"SELECT * FROM dev_domestico.custo_2024_excel \"\n",
    "\n",
    "df = process(strsql, flag_fake=False)\n",
    "\n",
    "df = df[['tipo_custo','custo','valor_custo','dt_mes_base','dt_custo','tipo_custo_alt','classificacao_custo','area_custo']].drop_duplicates()"
   ]
  },
  {
   "cell_type": "code",
   "execution_count": 5,
   "metadata": {},
   "outputs": [],
   "source": [
    "# import pandas as pd\n",
    "\n",
    "# pd.set_option('display.max_columns', 100)\n",
    "# pd.set_option('display.max_rows', None)\n",
    "\n",
    "# pd.set_option('display.width', 1000)\n"
   ]
  },
  {
   "cell_type": "code",
   "execution_count": 8,
   "metadata": {},
   "outputs": [],
   "source": [
    "dfx = analytics_percent_geral(df)\n",
    "dfcx = dfx[dfx['tipo']=='Total'].copy()\n",
    "dfcx = dfcx.rename(columns={'tipo':'base'})\n",
    "dfcx['base']='custo_2024'"
   ]
  },
  {
   "cell_type": "code",
   "execution_count": 9,
   "metadata": {},
   "outputs": [],
   "source": [
    "from v0.resource.fin_api import consulta_gcp\n",
    "\n",
    "strsql = f\"SELECT * FROM dev_domestico.recebido_2024_excel  \"\n",
    "\n",
    "dfr = consulta_gcp(strsql)"
   ]
  },
  {
   "cell_type": "code",
   "execution_count": 9,
   "metadata": {},
   "outputs": [],
   "source": [
    "# def func_recebido(dfr, mes):\n",
    "#     if mes<=9:\n",
    "#         value = dfr['valor_recebido'].loc[(pd.to_datetime(dfr['dt_mes_base'])==f'2024-0{mes}-01')].sum()\n",
    "#     else:\n",
    "#         value = dfr['valor_recebido'].loc[(pd.to_datetime(dfr['dt_mes_base'])==f'2024-{mes}-01')].sum()\n",
    "#     return value"
   ]
  },
  {
   "cell_type": "code",
   "execution_count": null,
   "metadata": {},
   "outputs": [],
   "source": [
    "# df_ = pd.DataFrame()\n",
    "# df_ = pd.DataFrame({\n",
    "# 'valor_recebido':[ func_recebido(dfr, s) for s in range(1,13) ],\n",
    "# 'dt_mes_base':[pd.Timestamp(f\"2024-0{s}-01\") if s<=9 else pd.Timestamp(f\"2024-{s}-01\")  for s in range(1,13) ]\n",
    "# })"
   ]
  },
  {
   "cell_type": "code",
   "execution_count": 10,
   "metadata": {},
   "outputs": [],
   "source": [
    "from v0.resource.myprocessanalytics_v0 import analytics_receb_percent\n",
    "\n",
    "dfrx = analytics_receb_percent(dfr, '2024')"
   ]
  },
  {
   "cell_type": "code",
   "execution_count": 11,
   "metadata": {},
   "outputs": [],
   "source": [
    "dfrx = dfrx.rename(columns={'ano_base':'base'})\n",
    "# dfx_21 = dfx_21.rename(columns={'tipo':'2021'})\n",
    "dfrx['base']='rec_2024'"
   ]
  },
  {
   "cell_type": "code",
   "execution_count": 12,
   "metadata": {},
   "outputs": [
    {
     "data": {
      "text/html": [
       "<div>\n",
       "<style scoped>\n",
       "    .dataframe tbody tr th:only-of-type {\n",
       "        vertical-align: middle;\n",
       "    }\n",
       "\n",
       "    .dataframe tbody tr th {\n",
       "        vertical-align: top;\n",
       "    }\n",
       "\n",
       "    .dataframe thead th {\n",
       "        text-align: right;\n",
       "    }\n",
       "</style>\n",
       "<table border=\"1\" class=\"dataframe\">\n",
       "  <thead>\n",
       "    <tr style=\"text-align: right;\">\n",
       "      <th></th>\n",
       "      <th>base</th>\n",
       "      <th>vlr_sum</th>\n",
       "      <th>vlr_med</th>\n",
       "      <th>vlr_jan</th>\n",
       "      <th>vlr_fev</th>\n",
       "      <th>vlr_mar</th>\n",
       "      <th>vlr_abr</th>\n",
       "      <th>vlr_mai</th>\n",
       "      <th>vlr_jun</th>\n",
       "      <th>vlr_jul</th>\n",
       "      <th>vlr_ago</th>\n",
       "      <th>vlr_set</th>\n",
       "      <th>vlr_out</th>\n",
       "      <th>vlr_nov</th>\n",
       "      <th>vlr_dez</th>\n",
       "    </tr>\n",
       "  </thead>\n",
       "  <tbody>\n",
       "    <tr>\n",
       "      <th>0</th>\n",
       "      <td>rec_2024</td>\n",
       "      <td>146243.48</td>\n",
       "      <td>12186.956667</td>\n",
       "      <td>6891.38</td>\n",
       "      <td>8034.93</td>\n",
       "      <td>10687.92</td>\n",
       "      <td>30976.38</td>\n",
       "      <td>14939.64</td>\n",
       "      <td>12810.00</td>\n",
       "      <td>10662.49</td>\n",
       "      <td>7296.08</td>\n",
       "      <td>10697.53</td>\n",
       "      <td>10314.81</td>\n",
       "      <td>8765.27</td>\n",
       "      <td>14167.05</td>\n",
       "    </tr>\n",
       "    <tr>\n",
       "      <th>82</th>\n",
       "      <td>custo_2024</td>\n",
       "      <td>160531.40</td>\n",
       "      <td>13377.616667</td>\n",
       "      <td>13876.84</td>\n",
       "      <td>9558.33</td>\n",
       "      <td>14279.14</td>\n",
       "      <td>31509.21</td>\n",
       "      <td>11601.21</td>\n",
       "      <td>11474.39</td>\n",
       "      <td>10309.67</td>\n",
       "      <td>11641.52</td>\n",
       "      <td>10979.62</td>\n",
       "      <td>11434.69</td>\n",
       "      <td>10137.11</td>\n",
       "      <td>13729.67</td>\n",
       "    </tr>\n",
       "  </tbody>\n",
       "</table>\n",
       "</div>"
      ],
      "text/plain": [
       "          base    vlr_sum       vlr_med   vlr_jan  vlr_fev   vlr_mar  \\\n",
       "0     rec_2024  146243.48  12186.956667   6891.38  8034.93  10687.92   \n",
       "82  custo_2024  160531.40  13377.616667  13876.84  9558.33  14279.14   \n",
       "\n",
       "     vlr_abr   vlr_mai   vlr_jun   vlr_jul   vlr_ago   vlr_set   vlr_out  \\\n",
       "0   30976.38  14939.64  12810.00  10662.49   7296.08  10697.53  10314.81   \n",
       "82  31509.21  11601.21  11474.39  10309.67  11641.52  10979.62  11434.69   \n",
       "\n",
       "     vlr_nov   vlr_dez  \n",
       "0    8765.27  14167.05  \n",
       "82  10137.11  13729.67  "
      ]
     },
     "execution_count": 12,
     "metadata": {},
     "output_type": "execute_result"
    }
   ],
   "source": [
    "pd.concat([dfrx, dfcx])"
   ]
  }
 ],
 "metadata": {
  "kernelspec": {
   "display_name": "env",
   "language": "python",
   "name": "python3"
  },
  "language_info": {
   "codemirror_mode": {
    "name": "ipython",
    "version": 3
   },
   "file_extension": ".py",
   "mimetype": "text/x-python",
   "name": "python",
   "nbconvert_exporter": "python",
   "pygments_lexer": "ipython3",
   "version": "3.11.9"
  },
  "orig_nbformat": 4,
  "vscode": {
   "interpreter": {
    "hash": "268ab01c0d1568052fde17b27b7cfc10139e4612f952501a45d2fe6145ce40b7"
   }
  }
 },
 "nbformat": 4,
 "nbformat_minor": 2
}
