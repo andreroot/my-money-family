{
 "cells": [
  {
   "cell_type": "code",
   "execution_count": 1,
   "metadata": {},
   "outputs": [],
   "source": [
    "import pandas as pd    \n",
    "import os\n",
    "import re\n",
    "path_note = os.getcwd()\n",
    "path_src = re.sub(r'(.)notebooks','',path_note)"
   ]
  },
  {
   "cell_type": "code",
   "execution_count": 2,
   "metadata": {},
   "outputs": [],
   "source": [
    "import sys\n",
    "sys.path.append(os.path.abspath(f'{path_src}/'))"
   ]
  },
  {
   "cell_type": "code",
   "execution_count": 7,
   "metadata": {},
   "outputs": [
    {
     "data": {
      "text/plain": [
       "QueryJob<project=devsamelo2, location=US, id=custo_domestico_5e419504-4c46-439a-b0cc-1e9534be931e>"
      ]
     },
     "execution_count": 7,
     "metadata": {},
     "output_type": "execute_result"
    }
   ],
   "source": [
    "mes=\"2023-05-01\"\n",
    "#query = \"DROP TABLE IF EXISTS dev_domestico.custo_2023_excel\"\n",
    "query = \"DELETE FROM dev_domestico.custo_2023_excel where dt_mes_base='%(mes)s'\" #where dt_mes_base = {periodo}\n",
    "# from mygcpjobfinfam import my_execute_job\n",
    "# my_job = my_execute_job\n",
    "# my_job(query%{\"mes\": mes})"
   ]
  },
  {
   "cell_type": "code",
   "execution_count": 9,
   "metadata": {},
   "outputs": [
    {
     "name": "stdout",
     "output_type": "stream",
     "text": [
      "Etapa de conversão do type das colunas do dataframe gerada do excel:custo_2023_07.xls \n",
      "\n"
     ]
    }
   ],
   "source": [
    "from myextract import my_extract_excel_deb, my_type_modal_finance #my_extract_excel_cred\n",
    "my_fin = my_extract_excel_deb\n",
    "\n",
    "df = my_fin(path_src, f'custo_2023_07.xls')\n"
   ]
  },
  {
   "cell_type": "code",
   "execution_count": null,
   "metadata": {},
   "outputs": [],
   "source": [
    "my_type_modal_fin = my_type_modal_finance\n",
    "\n",
    "my_type_modal_fin(df, path_src, f'custo_2023_05.xls', 'pulling')\n",
    "print('\\n')\n",
    "my_type_modal_fin(df, path_src, f'custo_2023_05.xls', 'pushout')\n",
    "print('\\n')\n",
    "my_type_modal_fin(df, path_src, f'custo_2023_06.xls', 'stop')"
   ]
  },
  {
   "cell_type": "code",
   "execution_count": 10,
   "metadata": {},
   "outputs": [],
   "source": [
    "# df = df.loc[df['valor_alt'] > 0].copy()\n",
    "# df = df[df['descricao'].str.contains(r'SALDO[^\\\\b]+\\w')==False].copy()\n",
    "# df = df[df['descricao'].str.contains(r'RES APLIC[^\\\\b]+\\w')==False].copy()\n",
    "# #df = df[df['descricao'].str.contains(r'REND PAGO[^\\\\b]+\\w')==False].copy()"
   ]
  }
 ],
 "metadata": {
  "kernelspec": {
   "display_name": "env",
   "language": "python",
   "name": "python3"
  },
  "language_info": {
   "codemirror_mode": {
    "name": "ipython",
    "version": 3
   },
   "file_extension": ".py",
   "mimetype": "text/x-python",
   "name": "python",
   "nbconvert_exporter": "python",
   "pygments_lexer": "ipython3",
   "version": "3.7.16"
  },
  "orig_nbformat": 4,
  "vscode": {
   "interpreter": {
    "hash": "268ab01c0d1568052fde17b27b7cfc10139e4612f952501a45d2fe6145ce40b7"
   }
  }
 },
 "nbformat": 4,
 "nbformat_minor": 2
}
