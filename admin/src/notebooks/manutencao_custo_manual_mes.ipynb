{
 "cells": [
  {
   "cell_type": "code",
   "execution_count": 1,
   "metadata": {},
   "outputs": [],
   "source": [
    "import pandas as pd    \n",
    "import os\n",
    "import re\n",
    "path_note = os.getcwd()\n",
    "path_src = re.sub(r'(.)notebooks','',path_note)\n",
    "path_src_resource = re.sub(r'(.)notebooks','\\/v0',path_note)"
   ]
  },
  {
   "cell_type": "code",
   "execution_count": 2,
   "metadata": {},
   "outputs": [],
   "source": [
    "import sys\n",
    "sys.path.append(os.path.abspath(f'{path_src}/'))\n",
    "sys.path.append(os.path.abspath(f'{path_src_resource}/'))"
   ]
  },
  {
   "cell_type": "markdown",
   "metadata": {},
   "source": [
    "# REMOVER DADOS ANTIGOS"
   ]
  },
  {
   "cell_type": "code",
   "execution_count": 3,
   "metadata": {},
   "outputs": [
    {
     "name": "stdout",
     "output_type": "stream",
     "text": [
      "2025_03\n"
     ]
    }
   ],
   "source": [
    "mes_ano=\"2025_03\"\n",
    "print(mes_ano)\n",
    "tab_ano = '2025'"
   ]
  },
  {
   "cell_type": "code",
   "execution_count": 4,
   "metadata": {},
   "outputs": [],
   "source": [
    "from v0.resource.mygcpjobfinfam import my_execute_job\n",
    "my_job = my_execute_job"
   ]
  },
  {
   "cell_type": "code",
   "execution_count": 5,
   "metadata": {},
   "outputs": [],
   "source": [
    "base = 'custo'"
   ]
  },
  {
   "cell_type": "code",
   "execution_count": 6,
   "metadata": {},
   "outputs": [
    {
     "data": {
      "text/plain": [
       "QueryJob<project=devsamelo2, location=US, id=custo_domestico_697b8675-1267-43c0-9505-41861a51d4a9>"
      ]
     },
     "execution_count": 6,
     "metadata": {},
     "output_type": "execute_result"
    }
   ],
   "source": [
    "query = f\"DELETE FROM dev_domestico.{base}_{tab_ano}_excel where dt_mes_base='%(mes_ano)s'\" #where dt_mes_base = {periodo}\n",
    "# from mygcpjobfinfam import my_execute_job\n",
    "# my_job = my_execute_job\n",
    "# print(query%{\"mes_ano\": mes_ano.replace(\"_\",\"-\")+\"-01\"})\n",
    "my_job(query%{\"mes_ano\": mes_ano.replace(\"_\",\"-\")+\"-01\"}) "
   ]
  },
  {
   "cell_type": "markdown",
   "metadata": {},
   "source": [
    "# INCIAR PROCESSO DE MANUNTENAÇÃO NO PERIDOODO SOLICITADO"
   ]
  },
  {
   "cell_type": "code",
   "execution_count": 7,
   "metadata": {},
   "outputs": [],
   "source": [
    "from v0.datamyfin.myextract_2024 import my_extract_excel_deb, my_type_modal_finance\n",
    "\n",
    "my_fin = my_extract_excel_deb\n",
    "my_type_modal_fin = my_type_modal_finance \n",
    "\n",
    "path = 'C:\\\\Users\\\\andre\\\\Documents\\\\github\\\\my-money-family\\\\admin\\\\src\\\\v0'\n"
   ]
  },
  {
   "cell_type": "code",
   "execution_count": 8,
   "metadata": {},
   "outputs": [
    {
     "name": "stdout",
     "output_type": "stream",
     "text": [
      "Etapa de conversão do type das colunas do dataframe gerada do excel:custo_2025_03.xls \n",
      "\n",
      "SAIDA / CUSTO / PUSHOUT:custo_2025_03.xls \n",
      "\n",
      "TOTAL DE LINHAS PUSHOUT: 14 \n",
      "\n",
      "Inicio da etapa destino do dinheiro: empurra pra fora \n",
      "\n",
      "Etapa INTERMEDIARIA DO PUSHOUT para classificação do tipo de custo \n",
      "\n",
      "Total tipos_encontrados:14 / tipos_nao_encontrados:0\n",
      "\n",
      "Table devsamelo2.dev_domestico.custo_2025_excel already exists.\n",
      "Loaded 145 rows and 6 columns to devsamelo2.dev_domestico.custo_2025_excel\n",
      "\n",
      "\n"
     ]
    }
   ],
   "source": [
    "from v0.datamyfin.myextract_2024 import my_extract_excel_deb, my_type_modal_finance #my_extract_excel_cred\n",
    "my_fin = my_extract_excel_deb\n",
    "\n",
    "df = my_fin(path_src, f'custo_{mes_ano}.xls')\n",
    "\n",
    "my_type_modal_fin = my_type_modal_finance\n",
    "\n",
    "my_type_modal_fin(df, path_src, f'custo_{mes_ano}.xls', 'pushout', tab_ano)\n",
    "print('\\n')"
   ]
  },
  {
   "cell_type": "code",
   "execution_count": 53,
   "metadata": {},
   "outputs": [
    {
     "name": "stdout",
     "output_type": "stream",
     "text": [
      "2025_03\n"
     ]
    }
   ],
   "source": [
    "mes_ano=\"2025_03\"\n",
    "print(mes_ano)\n",
    "tab_ano = '2025'"
   ]
  },
  {
   "cell_type": "code",
   "execution_count": 54,
   "metadata": {},
   "outputs": [
    {
     "data": {
      "text/plain": [
       "QueryJob<project=devsamelo2, location=US, id=custo_domestico_e333dd02-d4ea-42d1-ae73-ef57208b71a1>"
      ]
     },
     "execution_count": 54,
     "metadata": {},
     "output_type": "execute_result"
    }
   ],
   "source": [
    "query = f\"DELETE FROM dev_domestico.credito_{tab_ano}_excel where dt_mes_base = '%(mes_ano)s'\"\n",
    "# from mygcpjobfinfam import my_execute_job\n",
    "# my_job = my_execute_job\n",
    "# print(query%{\"mes_ano\": mes_ano.replace(\"_\",\"-\")+\"-01\"})\n",
    "my_job(query%{\"mes_ano\": mes_ano.replace(\"_\",\"-\")+\"-01\"}) "
   ]
  },
  {
   "cell_type": "code",
   "execution_count": 55,
   "metadata": {},
   "outputs": [
    {
     "name": "stdout",
     "output_type": "stream",
     "text": [
      "\n",
      "\n",
      "Etapa de conversão do type das colunas do dataframe gerada do excel:credito_2025_03.xls \n",
      "\n",
      "TAMANHO TOTAL DF: 8\n",
      "\n",
      "\n",
      "['2025_03']\n",
      "CREDITS:credito_2025_03.xls \n",
      "\n",
      "TOTAL DE LINHAS CREDITS: 8 \n",
      "\n",
      "Etapa INTERMEDIARIA DO PUSHOUT para classificação do tipo de custo \n",
      "\n",
      "Total tipos_encontrados:8 / tipos_nao_encontrados:0\n",
      "\n",
      "Table devsamelo2.dev_domestico.credito_2025_excel already exists.\n",
      "Loaded 36 rows and 7 columns to devsamelo2.dev_domestico.credito_2025_excel\n"
     ]
    }
   ],
   "source": [
    "from v0.datamyfin.myextractcred_2024 import my_extract_excel_cred, my_credits\n",
    "\n",
    "my_fin = my_extract_excel_cred\n",
    "my_cred = my_credits\n",
    "\n",
    "\n",
    "print('\\n')\n",
    "df = my_fin(path_src, mes_ano, f'credito_{mes_ano}.xls')\n",
    "\n",
    "print(f\"TAMANHO TOTAL DF: {len(df)}\")\n",
    "\n",
    "print('\\n')\n",
    "my_cred(df, path_src, f'credito_{mes_ano}.xls', tab_ano)"
   ]
  },
  {
   "cell_type": "code",
   "execution_count": 40,
   "metadata": {},
   "outputs": [],
   "source": [
    "# if mes_ano:\n",
    "\n",
    "# #['recebido_2024_excel','custo_2024_excel','saldo_2024_excel']\n",
    "#     if os.path.exists(f'{path}/excel/custo_{mes_ano}.xls'):\n",
    "#         print('\\n')\n",
    "#         df = my_fin(path, f'custo_{mes_ano}.xls')\n",
    "        \n",
    "#         print(f\"TAMANHO TOTAL DF: {len(df)}\")\n",
    "\n",
    "#         #query = \"DROP TABLE IF EXISTS dev_domestico.custo_2023_excel\"\n",
    "#         query = \"DELETE FROM dev_domestico.recebido_2024_excel where dt_mes_base='%(mes_ano)s'\" #where dt_mes_base = {periodo}\n",
    "#         # from mygcpjobfinfam import my_execute_job\n",
    "#         # my_job = my_execute_job\n",
    "#         my_job(query%{\"mes_ano\": mes_ano.replace(\"_\",\"-\")+\"-01\"})        \n",
    "\n",
    "#         print('\\n')\n",
    "#         my_type_modal_fin(df, path, f'custo_{mes_ano}.xls', 'pulling', tab_ano = '2024')\n",
    "\n",
    "#         #query = \"DROP TABLE IF EXISTS dev_domestico.custo_2023_excel\"\n",
    "#         query = \"DELETE FROM dev_domestico.custo_2024_excel where dt_mes_base='%(mes_ano)s'\" #where dt_mes_base = {periodo}\n",
    "#         # from mygcpjobfinfam import my_execute_job\n",
    "#         # my_job = my_execute_job\n",
    "#         my_job(query%{\"mes_ano\": mes_ano.replace(\"_\",\"-\")+\"-01\"})   \n",
    "\n",
    "#         print('\\n')\n",
    "#         my_type_modal_fin(df, path, f'custo_{mes_ano}.xls', 'pushout', tab_ano = '2024')\n",
    "\n",
    "#         #query = \"DROP TABLE IF EXISTS dev_domestico.custo_2023_excel\"\n",
    "#         query = \"DELETE FROM dev_domestico.saldo_2024_excel where dt_mes_base='%(mes_ano)s'\" #where dt_mes_base = {periodo}\n",
    "#         # from mygcpjobfinfam import my_execute_job\n",
    "#         # my_job = my_execute_job\n",
    "#         my_job(query%{\"mes_ano\": mes_ano.replace(\"_\",\"-\")+\"-01\"})   \n",
    "\n",
    "#         print('\\n')\n",
    "#         my_type_modal_fin(df, path, f'custo_{mes_ano}.xls', 'stop', tab_ano = '2024')\n",
    "#     else:\n",
    "#         print('\\n')\n",
    "#         print(f'arquivo {path}/excel/custo_{mes_ano}.xls não existe')   "
   ]
  },
  {
   "cell_type": "code",
   "execution_count": 41,
   "metadata": {},
   "outputs": [],
   "source": [
    "# import pandas as pd\n",
    "# import datetime as dt\n",
    "# from datetime import timedelta\n",
    "\n",
    "# data_bq='2024-02-29'\n",
    "# data_base='2024-02-01'\n",
    "\n",
    "# df_ext = pd.DataFrame()\n",
    "# df_ext = pd.DataFrame({'dt_extrato_bq':[pd.Timestamp(data_bq)],\t\n",
    "#                     'descricao':['recebido_terceiro'],\n",
    "#                     'valor_ext':[550],\n",
    "#                     'valor_saldo':[None],\n",
    "#                     'ano':['2023'],\n",
    "#                     'mes':['08'],\t\n",
    "#                     'dt_base':[pd.Timestamp(data_base)],\n",
    "#                     'valor_alt':[550],\n",
    "#                     }\n",
    "   \n",
    "# )\n"
   ]
  },
  {
   "cell_type": "code",
   "execution_count": 42,
   "metadata": {},
   "outputs": [],
   "source": [
    "# df_x = pd.concat([df, df_ext])"
   ]
  },
  {
   "cell_type": "code",
   "execution_count": 43,
   "metadata": {},
   "outputs": [],
   "source": [
    "# df_x.reset_index(drop=True)"
   ]
  }
 ],
 "metadata": {
  "kernelspec": {
   "display_name": "env",
   "language": "python",
   "name": "python3"
  },
  "language_info": {
   "codemirror_mode": {
    "name": "ipython",
    "version": 3
   },
   "file_extension": ".py",
   "mimetype": "text/x-python",
   "name": "python",
   "nbconvert_exporter": "python",
   "pygments_lexer": "ipython3",
   "version": "3.11.9"
  },
  "orig_nbformat": 4,
  "vscode": {
   "interpreter": {
    "hash": "268ab01c0d1568052fde17b27b7cfc10139e4612f952501a45d2fe6145ce40b7"
   }
  }
 },
 "nbformat": 4,
 "nbformat_minor": 2
}
