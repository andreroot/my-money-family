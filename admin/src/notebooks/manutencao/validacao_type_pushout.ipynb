{
 "cells": [
  {
   "cell_type": "code",
   "execution_count": 1,
   "metadata": {},
   "outputs": [],
   "source": [
    "import pandas as pd    \n",
    "import os\n",
    "import re\n",
    "path_note = os.getcwd()\n",
    "path_src = re.sub(r'(.)notebooks','',path_note)"
   ]
  },
  {
   "cell_type": "code",
   "execution_count": 2,
   "metadata": {},
   "outputs": [],
   "source": [
    "import sys\n",
    "sys.path.append(os.path.abspath(f'{path_src}/'))"
   ]
  },
  {
   "cell_type": "code",
   "execution_count": 3,
   "metadata": {},
   "outputs": [],
   "source": [
    "from fin_api import consulta_gcp\n",
    "\n",
    "strsql = \"SELECT * FROM dev_domestico.custo_2023_excel where dt_mes_base ='2023-07-01'  \"\n",
    "\n",
    "df = consulta_gcp(strsql)"
   ]
  },
  {
   "cell_type": "code",
   "execution_count": 6,
   "metadata": {},
   "outputs": [],
   "source": [
    "df[\"descricao\"] = df[\"custo\"]"
   ]
  },
  {
   "cell_type": "code",
   "execution_count": 7,
   "metadata": {},
   "outputs": [
    {
     "name": "stdout",
     "output_type": "stream",
     "text": [
      "Etapa INTERMEDIARIA DO PUSHOUT para classificação do tipo de custo \n",
      "\n",
      "Total tipos_encontrados:120 / tipos_nao_encontrados:0\n",
      "\n"
     ]
    }
   ],
   "source": [
    "from mytypedestinmoney_v1 import my_destin_pushout_csv\n",
    "df = my_destin_pushout_csv(df, f'{path_src}/csv/08-11-2023-type.csv')"
   ]
  },
  {
   "cell_type": "code",
   "execution_count": 8,
   "metadata": {},
   "outputs": [
    {
     "data": {
      "text/html": [
       "<div>\n",
       "<style scoped>\n",
       "    .dataframe tbody tr th:only-of-type {\n",
       "        vertical-align: middle;\n",
       "    }\n",
       "\n",
       "    .dataframe tbody tr th {\n",
       "        vertical-align: top;\n",
       "    }\n",
       "\n",
       "    .dataframe thead th {\n",
       "        text-align: right;\n",
       "    }\n",
       "</style>\n",
       "<table border=\"1\" class=\"dataframe\">\n",
       "  <thead>\n",
       "    <tr style=\"text-align: right;\">\n",
       "      <th></th>\n",
       "      <th>tipo_custo</th>\n",
       "      <th>custo</th>\n",
       "      <th>valor_custo</th>\n",
       "      <th>dt_mes_base</th>\n",
       "      <th>dt_custo</th>\n",
       "      <th>process_time</th>\n",
       "      <th>descricao</th>\n",
       "    </tr>\n",
       "  </thead>\n",
       "  <tbody>\n",
       "    <tr>\n",
       "      <th>0</th>\n",
       "      <td>alimentacao</td>\n",
       "      <td>PIX TRANSF  Matheus01/07</td>\n",
       "      <td>45.00</td>\n",
       "      <td>2023-07-01</td>\n",
       "      <td>2023-07-03</td>\n",
       "      <td>2023-09-06 15:28:12.598025+00:00</td>\n",
       "      <td>PIX TRANSF  Matheus01/07</td>\n",
       "    </tr>\n",
       "    <tr>\n",
       "      <th>1</th>\n",
       "      <td>sabesp</td>\n",
       "      <td>SABESP      3082129325</td>\n",
       "      <td>351.81</td>\n",
       "      <td>2023-07-01</td>\n",
       "      <td>2023-07-03</td>\n",
       "      <td>2023-09-06 15:28:12.598025+00:00</td>\n",
       "      <td>SABESP      3082129325</td>\n",
       "    </tr>\n",
       "    <tr>\n",
       "      <th>2</th>\n",
       "      <td>futebol</td>\n",
       "      <td>PIX TRANSF  NIRLEY 02/07</td>\n",
       "      <td>25.00</td>\n",
       "      <td>2023-07-01</td>\n",
       "      <td>2023-07-03</td>\n",
       "      <td>2023-09-06 15:28:12.598025+00:00</td>\n",
       "      <td>PIX TRANSF  NIRLEY 02/07</td>\n",
       "    </tr>\n",
       "    <tr>\n",
       "      <th>3</th>\n",
       "      <td>comercio</td>\n",
       "      <td>ELECTRONBOX CAR</td>\n",
       "      <td>60.00</td>\n",
       "      <td>2023-07-01</td>\n",
       "      <td>2023-07-03</td>\n",
       "      <td>2023-09-06 15:28:12.598025+00:00</td>\n",
       "      <td>ELECTRONBOX CAR</td>\n",
       "    </tr>\n",
       "    <tr>\n",
       "      <th>4</th>\n",
       "      <td>lazer</td>\n",
       "      <td>ELECTRONMATRIZ</td>\n",
       "      <td>250.00</td>\n",
       "      <td>2023-07-01</td>\n",
       "      <td>2023-07-03</td>\n",
       "      <td>2023-09-06 15:28:12.598025+00:00</td>\n",
       "      <td>ELECTRONMATRIZ</td>\n",
       "    </tr>\n",
       "    <tr>\n",
       "      <th>...</th>\n",
       "      <td>...</td>\n",
       "      <td>...</td>\n",
       "      <td>...</td>\n",
       "      <td>...</td>\n",
       "      <td>...</td>\n",
       "      <td>...</td>\n",
       "      <td>...</td>\n",
       "    </tr>\n",
       "    <tr>\n",
       "      <th>115</th>\n",
       "      <td>pessoa</td>\n",
       "      <td>ELECTRONVALDENICIO</td>\n",
       "      <td>3.00</td>\n",
       "      <td>2023-07-01</td>\n",
       "      <td>2023-07-31</td>\n",
       "      <td>2023-09-06 15:28:12.598025+00:00</td>\n",
       "      <td>ELECTRONVALDENICIO</td>\n",
       "    </tr>\n",
       "    <tr>\n",
       "      <th>116</th>\n",
       "      <td>feira-frutas</td>\n",
       "      <td>ELECTRONPAG*OrielPe</td>\n",
       "      <td>20.00</td>\n",
       "      <td>2023-07-01</td>\n",
       "      <td>2023-07-31</td>\n",
       "      <td>2023-09-06 15:28:12.598025+00:00</td>\n",
       "      <td>ELECTRONPAG*OrielPe</td>\n",
       "    </tr>\n",
       "    <tr>\n",
       "      <th>117</th>\n",
       "      <td>pessoa</td>\n",
       "      <td>ELECTRONPAG*Alexand</td>\n",
       "      <td>4.00</td>\n",
       "      <td>2023-07-01</td>\n",
       "      <td>2023-07-31</td>\n",
       "      <td>2023-09-06 15:28:12.598025+00:00</td>\n",
       "      <td>ELECTRONPAG*Alexand</td>\n",
       "    </tr>\n",
       "    <tr>\n",
       "      <th>118</th>\n",
       "      <td>feira-pano</td>\n",
       "      <td>ELECTRONPAG*Antonie</td>\n",
       "      <td>4.00</td>\n",
       "      <td>2023-07-01</td>\n",
       "      <td>2023-07-31</td>\n",
       "      <td>2023-09-06 15:28:12.598025+00:00</td>\n",
       "      <td>ELECTRONPAG*Antonie</td>\n",
       "    </tr>\n",
       "    <tr>\n",
       "      <th>119</th>\n",
       "      <td>feira-alho</td>\n",
       "      <td>ELECTRONPAG*Rosilen</td>\n",
       "      <td>9.00</td>\n",
       "      <td>2023-07-01</td>\n",
       "      <td>2023-07-31</td>\n",
       "      <td>2023-09-06 15:28:12.598025+00:00</td>\n",
       "      <td>ELECTRONPAG*Rosilen</td>\n",
       "    </tr>\n",
       "  </tbody>\n",
       "</table>\n",
       "<p>120 rows × 7 columns</p>\n",
       "</div>"
      ],
      "text/plain": [
       "       tipo_custo                     custo  valor_custo dt_mes_base  \\\n",
       "0     alimentacao  PIX TRANSF  Matheus01/07        45.00  2023-07-01   \n",
       "1          sabesp    SABESP      3082129325       351.81  2023-07-01   \n",
       "2         futebol  PIX TRANSF  NIRLEY 02/07        25.00  2023-07-01   \n",
       "3        comercio           ELECTRONBOX CAR        60.00  2023-07-01   \n",
       "4           lazer            ELECTRONMATRIZ       250.00  2023-07-01   \n",
       "..            ...                       ...          ...         ...   \n",
       "115        pessoa        ELECTRONVALDENICIO         3.00  2023-07-01   \n",
       "116  feira-frutas       ELECTRONPAG*OrielPe        20.00  2023-07-01   \n",
       "117        pessoa       ELECTRONPAG*Alexand         4.00  2023-07-01   \n",
       "118    feira-pano       ELECTRONPAG*Antonie         4.00  2023-07-01   \n",
       "119    feira-alho       ELECTRONPAG*Rosilen         9.00  2023-07-01   \n",
       "\n",
       "       dt_custo                     process_time                 descricao  \n",
       "0    2023-07-03 2023-09-06 15:28:12.598025+00:00  PIX TRANSF  Matheus01/07  \n",
       "1    2023-07-03 2023-09-06 15:28:12.598025+00:00    SABESP      3082129325  \n",
       "2    2023-07-03 2023-09-06 15:28:12.598025+00:00  PIX TRANSF  NIRLEY 02/07  \n",
       "3    2023-07-03 2023-09-06 15:28:12.598025+00:00           ELECTRONBOX CAR  \n",
       "4    2023-07-03 2023-09-06 15:28:12.598025+00:00            ELECTRONMATRIZ  \n",
       "..          ...                              ...                       ...  \n",
       "115  2023-07-31 2023-09-06 15:28:12.598025+00:00        ELECTRONVALDENICIO  \n",
       "116  2023-07-31 2023-09-06 15:28:12.598025+00:00       ELECTRONPAG*OrielPe  \n",
       "117  2023-07-31 2023-09-06 15:28:12.598025+00:00       ELECTRONPAG*Alexand  \n",
       "118  2023-07-31 2023-09-06 15:28:12.598025+00:00       ELECTRONPAG*Antonie  \n",
       "119  2023-07-31 2023-09-06 15:28:12.598025+00:00       ELECTRONPAG*Rosilen  \n",
       "\n",
       "[120 rows x 7 columns]"
      ]
     },
     "execution_count": 8,
     "metadata": {},
     "output_type": "execute_result"
    }
   ],
   "source": [
    "df"
   ]
  },
  {
   "cell_type": "code",
   "execution_count": null,
   "metadata": {},
   "outputs": [],
   "source": [
    "from mygcptablefinfam import insert_df_pushout\n",
    "\n",
    "print(f\"SAIDA / CUSTO / PUSHOUT:\", \"\\n\")\n",
    "insert_df_pushout(df, f'{path_src}/json/pushout.json','devsamelo2.dev_domestico.custo_2023_excel')"
   ]
  },
  {
   "cell_type": "code",
   "execution_count": 9,
   "metadata": {},
   "outputs": [
    {
     "data": {
      "text/plain": [
       "0.0"
      ]
     },
     "execution_count": 9,
     "metadata": {},
     "output_type": "execute_result"
    }
   ],
   "source": [
    "df_null = df[df['tipo_custo'].isnull()]\n",
    "\n",
    "#df[df['tipo_custo'].isnull()].groupby(['valor_custo']).agg(['count'])\n",
    "#df[df['tipo_custo'].str.contains(r'feira-\\w+|feira')==True].groupby('dt_mes_base')['valor_custo'].sum()\n",
    "df_null['valor_custo'].sum()\n"
   ]
  },
  {
   "cell_type": "code",
   "execution_count": 10,
   "metadata": {},
   "outputs": [
    {
     "data": {
      "text/html": [
       "<div>\n",
       "<style scoped>\n",
       "    .dataframe tbody tr th:only-of-type {\n",
       "        vertical-align: middle;\n",
       "    }\n",
       "\n",
       "    .dataframe tbody tr th {\n",
       "        vertical-align: top;\n",
       "    }\n",
       "\n",
       "    .dataframe thead th {\n",
       "        text-align: right;\n",
       "    }\n",
       "</style>\n",
       "<table border=\"1\" class=\"dataframe\">\n",
       "  <thead>\n",
       "    <tr style=\"text-align: right;\">\n",
       "      <th></th>\n",
       "      <th>tipo_custo</th>\n",
       "      <th>custo</th>\n",
       "      <th>valor_custo</th>\n",
       "      <th>dt_mes_base</th>\n",
       "      <th>dt_custo</th>\n",
       "      <th>process_time</th>\n",
       "      <th>descricao</th>\n",
       "    </tr>\n",
       "  </thead>\n",
       "  <tbody>\n",
       "  </tbody>\n",
       "</table>\n",
       "</div>"
      ],
      "text/plain": [
       "Empty DataFrame\n",
       "Columns: [tipo_custo, custo, valor_custo, dt_mes_base, dt_custo, process_time, descricao]\n",
       "Index: []"
      ]
     },
     "execution_count": 10,
     "metadata": {},
     "output_type": "execute_result"
    }
   ],
   "source": [
    "import csv\n",
    "#df_null[df_null[\"valor_custo\"]<50].sum()\n",
    "df_null[df_null[\"valor_custo\"]<=50] #['valor_custo'].sum() #.to_csv('depara.csv',quoting=csv.QUOTE_ALL)"
   ]
  },
  {
   "cell_type": "code",
   "execution_count": null,
   "metadata": {},
   "outputs": [],
   "source": [
    "df_type = pd.read_csv(f'{path_src}/csv/type.csv', sep=';', usecols=['de_para','valor'])\n",
    "df_type = df_type[(df_type[\"valor\"].notnull())].drop_duplicates()#.unique() | .notnull() | .isnull()\n",
    "df_type_raw = df_type.loc[df_type['de_para'].str.contains(r'^PIX TRANSF[^\\\\b]+.+[\\\\/]07')==True].copy()#.str.contains(r'SALDO[^\\\\b]+\\w')==False].copy()\n",
    "df_type_raw"
   ]
  },
  {
   "cell_type": "code",
   "execution_count": null,
   "metadata": {},
   "outputs": [],
   "source": [
    "df_type_raw[df_type_raw['valor']==\"igreja\"].groupby(['valor']).agg(['count'])\n",
    "df_analytics = df_type_raw['valor'].loc[df_type_raw['valor']==\"igreja\"]\n",
    "tottal=df_analytics.count()\n",
    "\n",
    "tottal"
   ]
  },
  {
   "cell_type": "code",
   "execution_count": null,
   "metadata": {},
   "outputs": [],
   "source": [
    "df = df.loc[df['descricao'].str.contains(r'.IMW[^\\\\b]+\\w')==True].copy()#.str.contains(r'SALDO[^\\\\b]+\\w')==False].copy()"
   ]
  },
  {
   "cell_type": "code",
   "execution_count": null,
   "metadata": {},
   "outputs": [],
   "source": [
    "for index_cc, row_cc in df.iterrows():\n",
    "    for index_dp, row_dp in df_type_raw.iterrows():\n",
    "        print(row_cc[\"descricao\"])\n",
    "        print(row_dp[\"de_para\"])\n",
    "        if row_cc[\"descricao\"] == row_dp[\"de_para\"]:\n",
    "            print (\"primeira verificação de de-para custo:\",\" / posicao:\",index_dp, row_dp['de_para'], '=', row_cc[\"descricao\"],\" / posicao:\",index_cc)\n"
   ]
  },
  {
   "cell_type": "code",
   "execution_count": null,
   "metadata": {},
   "outputs": [],
   "source": [
    "# #dfpus['tipo_custo'] = dfpus.apply(lambda x: x['tipo_custo']=\"compras\" if x['tipo_custo']==None else x['tipo_custo']=x['tipo_custo'],  axis=1)\n",
    "# for x in range(len(dfpus)):\n",
    "#     if dfpus[\"tipo_custo\"].iloc[x]==\"pessoa\":\n",
    "#         dfpus[\"tipo_custo\"].iloc[x]=\"compras\" "
   ]
  },
  {
   "cell_type": "code",
   "execution_count": null,
   "metadata": {},
   "outputs": [],
   "source": [
    "\n",
    "# list_tab = [str(l) for l in dfpus['tipo_custo'].tolist()]\n",
    "# list_tab\n"
   ]
  }
 ],
 "metadata": {
  "kernelspec": {
   "display_name": "env",
   "language": "python",
   "name": "python3"
  },
  "language_info": {
   "codemirror_mode": {
    "name": "ipython",
    "version": 3
   },
   "file_extension": ".py",
   "mimetype": "text/x-python",
   "name": "python",
   "nbconvert_exporter": "python",
   "pygments_lexer": "ipython3",
   "version": "3.11.8"
  },
  "orig_nbformat": 4,
  "vscode": {
   "interpreter": {
    "hash": "268ab01c0d1568052fde17b27b7cfc10139e4612f952501a45d2fe6145ce40b7"
   }
  }
 },
 "nbformat": 4,
 "nbformat_minor": 2
}
