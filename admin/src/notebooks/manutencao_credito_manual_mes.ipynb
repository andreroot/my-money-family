{
 "cells": [
  {
   "cell_type": "code",
   "execution_count": 1,
   "metadata": {},
   "outputs": [],
   "source": [
    "import pandas as pd    \n",
    "import os\n",
    "import re\n",
    "path_note = os.getcwd()\n",
    "path_src = re.sub(r'(.)notebooks','',path_note)"
   ]
  },
  {
   "cell_type": "code",
   "execution_count": 2,
   "metadata": {},
   "outputs": [],
   "source": [
    "import sys\n",
    "sys.path.append(os.path.abspath(f'{path_src}/'))"
   ]
  },
  {
   "cell_type": "code",
   "execution_count": 3,
   "metadata": {},
   "outputs": [
    {
     "data": {
      "text/plain": [
       "QueryJob<project=devsamelo2, location=US, id=custo_domestico_b8a20613-3457-446a-bf13-c0298971d213>"
      ]
     },
     "execution_count": 3,
     "metadata": {},
     "output_type": "execute_result"
    }
   ],
   "source": [
    "#['credito_2023_excel'] #['recebido_2023_excel','credito_2023_excel','custo_2023_excel','saldo_2023_excel']\n",
    "mes='2023-08-01'\n",
    "query = f'DELETE FROM dev_domestico.credito_2023_excel where dt_mes_base={mes}' #where dt_mes_base = {periodo}\n",
    "from mygcpjobfinfam import my_execute_job\n",
    "my_job = my_execute_job\n",
    "my_job(query)"
   ]
  },
  {
   "cell_type": "code",
   "execution_count": 4,
   "metadata": {},
   "outputs": [
    {
     "name": "stdout",
     "output_type": "stream",
     "text": [
      "Etapa de conversão do type das colunas do dataframe gerada do excel:credito_2023_08.xls \n",
      "\n",
      "CREDITS:credito_2023_08.xls \n",
      "\n",
      "TOTAL DE LINHAS CREDITS: 61 \n",
      "\n",
      "Etapa INTERMEDIARIA DO PUSHOUT para classificação do tipo de custo \n",
      "\n",
      "Total tipos_encontrados:51 / tipos_nao_encontrados:0 / tipo_generico:10\n",
      "\n",
      "Table devsamelo2.dev_domestico.credito_2023_excel already exists.\n",
      "Loaded 806 rows and 7 columns to devsamelo2.dev_domestico.credito_2023_excel\n"
     ]
    }
   ],
   "source": [
    "from myextractcred import my_extract_excel_cred\n",
    "my_fin = my_extract_excel_cred\n",
    "\n",
    "mes = '08'\n",
    "\n",
    "df = my_fin(path_src, f'credito_2023_{mes}.xls')\n",
    "\n",
    "from myextractcred import my_credits\n",
    "my_cred = my_credits\n",
    "\n",
    "my_cred(df, path_src, f'credito_2023_{mes}.xls')\n"
   ]
  }
 ],
 "metadata": {
  "kernelspec": {
   "display_name": "env",
   "language": "python",
   "name": "python3"
  },
  "language_info": {
   "codemirror_mode": {
    "name": "ipython",
    "version": 3
   },
   "file_extension": ".py",
   "mimetype": "text/x-python",
   "name": "python",
   "nbconvert_exporter": "python",
   "pygments_lexer": "ipython3",
   "version": "3.11.4"
  },
  "orig_nbformat": 4,
  "vscode": {
   "interpreter": {
    "hash": "268ab01c0d1568052fde17b27b7cfc10139e4612f952501a45d2fe6145ce40b7"
   }
  }
 },
 "nbformat": 4,
 "nbformat_minor": 2
}
