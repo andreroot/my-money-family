{
 "cells": [
  {
   "cell_type": "code",
   "execution_count": 9,
   "metadata": {},
   "outputs": [],
   "source": [
    "import pandas as pd    \n",
    "import os\n",
    "import re\n",
    "path_note = os.getcwd()\n",
    "path_src = re.sub(r'(.)notebooks','',path_note)"
   ]
  },
  {
   "cell_type": "code",
   "execution_count": 10,
   "metadata": {},
   "outputs": [],
   "source": [
    "import sys\n",
    "sys.path.append(os.path.abspath(f'{path_src}/'))"
   ]
  },
  {
   "cell_type": "code",
   "execution_count": 11,
   "metadata": {},
   "outputs": [
    {
     "data": {
      "text/plain": [
       "QueryJob<project=devsamelo2, location=US, id=custo_domestico_16e198b6-ae84-490c-93f7-829c272fcaba>"
      ]
     },
     "execution_count": 11,
     "metadata": {},
     "output_type": "execute_result"
    }
   ],
   "source": [
    "#['credito_2023_excel'] #['recebido_2023_excel','credito_2023_excel','custo_2023_excel','saldo_2023_excel']\n",
    "mes='2023-12-01'\n",
    "query = f'DROP TABLE IF EXISTS dev_domestico.credito_2023_excel where dt_mes_base={mes}' #where dt_mes_base = {periodo}\n",
    "from mygcpjobfinfam import my_execute_job\n",
    "my_job = my_execute_job\n",
    "my_job(query)"
   ]
  },
  {
   "cell_type": "code",
   "execution_count": 12,
   "metadata": {},
   "outputs": [
    {
     "name": "stdout",
     "output_type": "stream",
     "text": [
      "Etapa de conversão do type das colunas do dataframe gerada do excel:credito_2023_12.xls \n",
      "\n",
      "CREDITS:credito_2023_12.xls \n",
      "\n",
      "TOTAL DE LINHAS STOP: 3 \n",
      "\n",
      "Etapa INTERMEDIARIA DO PUSHOUT para classificação do tipo de custo \n",
      "\n",
      "Total tipos_encontrados:0 / tipos_nao_encontrados:0 / tipo_generico:3\n",
      "\n",
      "Table devsamelo2.dev_domestico.credito_2023_excel already exists.\n",
      "Loaded 703 rows and 7 columns to devsamelo2.dev_domestico.credito_2023_excel\n"
     ]
    }
   ],
   "source": [
    "from myextractcred import my_extract_excel_cred\n",
    "my_fin = my_extract_excel_cred\n",
    "\n",
    "mes = '12'\n",
    "\n",
    "df = my_fin(path_src, f'credito_2023_{mes}.xls')\n",
    "\n",
    "from myextractcred import my_credits\n",
    "my_cred = my_credits\n",
    "\n",
    "my_cred(df, path_src, f'credito_2023_{mes}.xls')\n"
   ]
  }
 ],
 "metadata": {
  "kernelspec": {
   "display_name": "env",
   "language": "python",
   "name": "python3"
  },
  "language_info": {
   "codemirror_mode": {
    "name": "ipython",
    "version": 3
   },
   "file_extension": ".py",
   "mimetype": "text/x-python",
   "name": "python",
   "nbconvert_exporter": "python",
   "pygments_lexer": "ipython3",
   "version": "3.7.16 (default, Dec  7 2022, 01:11:59) \n[GCC 7.5.0]"
  },
  "orig_nbformat": 4,
  "vscode": {
   "interpreter": {
    "hash": "268ab01c0d1568052fde17b27b7cfc10139e4612f952501a45d2fe6145ce40b7"
   }
  }
 },
 "nbformat": 4,
 "nbformat_minor": 2
}
