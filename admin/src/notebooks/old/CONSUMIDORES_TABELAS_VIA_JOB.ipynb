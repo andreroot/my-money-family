{
 "cells": [
  {
   "cell_type": "code",
   "execution_count": 1,
   "metadata": {},
   "outputs": [],
   "source": [
    "import sys\n",
    "import os\n",
    "import pandas_gbq as pgbq\n",
    "import google.auth\n"
   ]
  },
  {
   "cell_type": "code",
   "execution_count": 2,
   "metadata": {},
   "outputs": [],
   "source": [
    "def get_file_local(sql):\n",
    "\n",
    "    # substituido ler aruqivo local, nao gera o arquivo, ler no storage\n",
    "    path_airflow = os.getcwd()\n",
    "    scrp_path = f'{path_airflow}/sql/{sql}'\n",
    "\n",
    "    ## arquivo sql dentro da esrutura airflow: \n",
    "    f = open(scrp_path, 'r')\n",
    "\n",
    "    conteudo = f.readlines()\n",
    "    # initialize an empty string\n",
    "    strsql = \"\"\n",
    "\n",
    "    # converte arquivo em string\n",
    "    for ln in conteudo:\n",
    "        strsql += ln   \n",
    "\n",
    "    return strsql"
   ]
  },
  {
   "cell_type": "code",
   "execution_count": 3,
   "metadata": {},
   "outputs": [],
   "source": [
    "key = '/home/andre/Documents/b2w/operacional/gitlab/map-consumo-tabelas-bq/mapeamento-consumo/src/key/airflow-bio-sheduler-jobs.json'\n",
    "\n",
    "os.environ[\"GOOGLE_APPLICATION_CREDENTIALS\"] = key\n",
    "#credencial = service_account.Credentials.from_service_account_file(key)\n",
    "credencial, pid = google.auth.default(     \n",
    "    scopes=[\n",
    "    \"https://www.googleapis.com/auth/drive\",\n",
    "    \"https://www.googleapis.com/auth/bigquery\",\n",
    "    \"https://www.googleapis.com/auth/cloud-platform\"\n",
    "])"
   ]
  },
  {
   "cell_type": "code",
   "execution_count": 4,
   "metadata": {},
   "outputs": [
    {
     "name": "stdout",
     "output_type": "stream",
     "text": [
      "Downloading: 100%|\u001b[32m██████████\u001b[0m|\n"
     ]
    }
   ],
   "source": [
    "#substituir metodo busca sql local: '/home/airflow/dags/transporte/scripts'\n",
    "sql = 'estudo_consumo_tabelas_monitoradas.sql'\n",
    "strsql = get_file_local(sql)  \n",
    "# strsql = geraScriptSql(f'{path}/query_cust/QUERY_ANALISE_CUSTO_TABELAS.sql',None,None) #,value[1])\n",
    "#GERAR DATAFRAME\n",
    "df = pgbq.read_gbq(strsql, project_id='composed-night-232419' , credentials=credencial)"
   ]
  },
  {
   "cell_type": "code",
   "execution_count": 5,
   "metadata": {},
   "outputs": [
    {
     "name": "stderr",
     "output_type": "stream",
     "text": [
      "/home/andre/Documents/b2w/operacional/gitlab/map-consumo-tabelas-bq/env/lib/python3.7/site-packages/ipykernel_launcher.py:2: FutureWarning: Passing a negative integer is deprecated in version 1.0 and will not be supported in future version. Instead, use None to not limit the column width.\n",
      "  \n"
     ]
    },
    {
     "data": {
      "text/html": [
       "<div>\n",
       "<style scoped>\n",
       "    .dataframe tbody tr th:only-of-type {\n",
       "        vertical-align: middle;\n",
       "    }\n",
       "\n",
       "    .dataframe tbody tr th {\n",
       "        vertical-align: top;\n",
       "    }\n",
       "\n",
       "    .dataframe thead th {\n",
       "        text-align: right;\n",
       "    }\n",
       "</style>\n",
       "<table border=\"1\" class=\"dataframe\">\n",
       "  <thead>\n",
       "    <tr style=\"text-align: right;\">\n",
       "      <th></th>\n",
       "      <th>user_email</th>\n",
       "      <th>base_tabela</th>\n",
       "    </tr>\n",
       "  </thead>\n",
       "  <tbody>\n",
       "    <tr>\n",
       "      <th>0</th>\n",
       "      <td>nicholas.pucci@americanas.io</td>\n",
       "      <td>`composed-night-232419.bio_reports.report_bio_o2o_pedidos_abertos_d0`</td>\n",
       "    </tr>\n",
       "    <tr>\n",
       "      <th>1</th>\n",
       "      <td>bio-sheduler-jobs@composed-night-232419.iam.gserviceaccount.com</td>\n",
       "      <td>`composed-night-232419.bio_reports.report_bio_o2o_pedidos_abertos_d0`</td>\n",
       "    </tr>\n",
       "    <tr>\n",
       "      <th>2</th>\n",
       "      <td>bio-sheduler-jobs@composed-night-232419.iam.gserviceaccount.com</td>\n",
       "      <td>composed-night-232419.INFORMATION_SCHEMA.SCHEMATA;</td>\n",
       "    </tr>\n",
       "    <tr>\n",
       "      <th>3</th>\n",
       "      <td>bio-sheduler-jobs@composed-night-232419.iam.gserviceaccount.com</td>\n",
       "      <td>tabela não identificada</td>\n",
       "    </tr>\n",
       "    <tr>\n",
       "      <th>4</th>\n",
       "      <td>bio-sheduler-jobs@composed-night-232419.iam.gserviceaccount.com</td>\n",
       "      <td>`composed-night-232419.bio_o2o.o2o_dataset_pedidos`</td>\n",
       "    </tr>\n",
       "    <tr>\n",
       "      <th>5</th>\n",
       "      <td>bio-sheduler-jobs@composed-night-232419.iam.gserviceaccount.com</td>\n",
       "      <td>`composed-night-232419.bio_op_bob2.bob2_pedc_refdoc`</td>\n",
       "    </tr>\n",
       "    <tr>\n",
       "      <th>6</th>\n",
       "      <td>bio-sheduler-jobs@composed-night-232419.iam.gserviceaccount.com</td>\n",
       "      <td>`composed-night-232419.bee_analytics_transporte.table_users`</td>\n",
       "    </tr>\n",
       "    <tr>\n",
       "      <th>7</th>\n",
       "      <td>bio-sheduler-jobs@composed-night-232419.iam.gserviceaccount.com</td>\n",
       "      <td>`composed-night-232419.bio_reports.report_bio_o2o_performance`</td>\n",
       "    </tr>\n",
       "    <tr>\n",
       "      <th>8</th>\n",
       "      <td>andre.barbosa@americanas.io</td>\n",
       "      <td>`composed-night-232419.bio_o2o.o2o_dataset_pedidos`</td>\n",
       "    </tr>\n",
       "    <tr>\n",
       "      <th>9</th>\n",
       "      <td>andre.barbosa@americanas.io</td>\n",
       "      <td>`composed-night-232419.bio_o2o_data.report_bio_o2o_funil_cancelamento`</td>\n",
       "    </tr>\n",
       "    <tr>\n",
       "      <th>10</th>\n",
       "      <td>andre.barbosa@americanas.io</td>\n",
       "      <td>`composed-night-232419.bio_op_instancia_forcada.instancia_forcada_delivery`</td>\n",
       "    </tr>\n",
       "  </tbody>\n",
       "</table>\n",
       "</div>"
      ],
      "text/plain": [
       "                                                         user_email  \\\n",
       "0   nicholas.pucci@americanas.io                                      \n",
       "1   bio-sheduler-jobs@composed-night-232419.iam.gserviceaccount.com   \n",
       "2   bio-sheduler-jobs@composed-night-232419.iam.gserviceaccount.com   \n",
       "3   bio-sheduler-jobs@composed-night-232419.iam.gserviceaccount.com   \n",
       "4   bio-sheduler-jobs@composed-night-232419.iam.gserviceaccount.com   \n",
       "5   bio-sheduler-jobs@composed-night-232419.iam.gserviceaccount.com   \n",
       "6   bio-sheduler-jobs@composed-night-232419.iam.gserviceaccount.com   \n",
       "7   bio-sheduler-jobs@composed-night-232419.iam.gserviceaccount.com   \n",
       "8   andre.barbosa@americanas.io                                       \n",
       "9   andre.barbosa@americanas.io                                       \n",
       "10  andre.barbosa@americanas.io                                       \n",
       "\n",
       "                                                                     base_tabela  \n",
       "0   `composed-night-232419.bio_reports.report_bio_o2o_pedidos_abertos_d0`         \n",
       "1   `composed-night-232419.bio_reports.report_bio_o2o_pedidos_abertos_d0`         \n",
       "2    composed-night-232419.INFORMATION_SCHEMA.SCHEMATA;                           \n",
       "3   tabela não identificada                                                       \n",
       "4   `composed-night-232419.bio_o2o.o2o_dataset_pedidos`                           \n",
       "5   `composed-night-232419.bio_op_bob2.bob2_pedc_refdoc`                          \n",
       "6   `composed-night-232419.bee_analytics_transporte.table_users`                  \n",
       "7   `composed-night-232419.bio_reports.report_bio_o2o_performance`                \n",
       "8   `composed-night-232419.bio_o2o.o2o_dataset_pedidos`                           \n",
       "9   `composed-night-232419.bio_o2o_data.report_bio_o2o_funil_cancelamento`        \n",
       "10  `composed-night-232419.bio_op_instancia_forcada.instancia_forcada_delivery`   "
      ]
     },
     "execution_count": 5,
     "metadata": {},
     "output_type": "execute_result"
    }
   ],
   "source": [
    "import pandas as pd\n",
    "pd.set_option('display.max_colwidth', -1)\n",
    "df[['user_email','base_tabela']] #.sort_values('data_carga', ascending=False)"
   ]
  },
  {
   "cell_type": "code",
   "execution_count": 6,
   "metadata": {},
   "outputs": [
    {
     "data": {
      "text/plain": [
       "user_email\n",
       "andre.barbosa@americanas.io                                        0.0\n",
       "bio-sheduler-jobs@composed-night-232419.iam.gserviceaccount.com    0.0\n",
       "nicholas.pucci@americanas.io                                       0.0\n",
       "Name: custo_real, dtype: float64"
      ]
     },
     "execution_count": 6,
     "metadata": {},
     "output_type": "execute_result"
    }
   ],
   "source": [
    "df.groupby(['user_email'])['custo_real'].sum()"
   ]
  }
 ],
 "metadata": {
  "kernelspec": {
   "display_name": "env",
   "language": "python",
   "name": "python3"
  },
  "language_info": {
   "codemirror_mode": {
    "name": "ipython",
    "version": 3
   },
   "file_extension": ".py",
   "mimetype": "text/x-python",
   "name": "python",
   "nbconvert_exporter": "python",
   "pygments_lexer": "ipython3",
   "version": "3.7.16"
  },
  "orig_nbformat": 4,
  "vscode": {
   "interpreter": {
    "hash": "c1fdd27f9051e1598e5626626d4591e77541c65751633f2678d0fe918943f93c"
   }
  }
 },
 "nbformat": 4,
 "nbformat_minor": 2
}
