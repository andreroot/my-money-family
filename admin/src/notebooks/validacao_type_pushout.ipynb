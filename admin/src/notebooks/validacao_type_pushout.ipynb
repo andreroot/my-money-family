{
 "cells": [
  {
   "cell_type": "code",
   "execution_count": 1,
   "metadata": {},
   "outputs": [],
   "source": [
    "import pandas as pd    \n",
    "import os\n",
    "import re\n",
    "path_note = os.getcwd()\n",
    "path_src = re.sub(r'(.)notebooks','',path_note)"
   ]
  },
  {
   "cell_type": "code",
   "execution_count": 2,
   "metadata": {},
   "outputs": [],
   "source": [
    "import sys\n",
    "sys.path.append(os.path.abspath(f'{path_src}/'))"
   ]
  },
  {
   "cell_type": "code",
   "execution_count": 3,
   "metadata": {},
   "outputs": [
    {
     "name": "stdout",
     "output_type": "stream",
     "text": [
      "Etapa de conversão do type das colunas do dataframe gerada do excel:custo_2023_07.xls \n",
      "\n"
     ]
    }
   ],
   "source": [
    "from myextract import my_extract_excel_deb, my_pushout_money #my_extract_excel_cred\n",
    "my_fin = my_extract_excel_deb\n",
    "my_pushout = my_pushout_money\n",
    "\n",
    "df = my_fin(path_src, f'custo_2023_07.xls')\n",
    "#my_pushout(df, path_src)"
   ]
  },
  {
   "cell_type": "code",
   "execution_count": 7,
   "metadata": {},
   "outputs": [],
   "source": [
    "# from mytypedestinmoney import my_destin_pushout_csv\n",
    "# df = my_destin_pushout_csv(df, f'{path_src}/csv/type.csv')"
   ]
  },
  {
   "cell_type": "code",
   "execution_count": 4,
   "metadata": {},
   "outputs": [
    {
     "data": {
      "text/html": [
       "<div>\n",
       "<style scoped>\n",
       "    .dataframe tbody tr th:only-of-type {\n",
       "        vertical-align: middle;\n",
       "    }\n",
       "\n",
       "    .dataframe tbody tr th {\n",
       "        vertical-align: top;\n",
       "    }\n",
       "\n",
       "    .dataframe thead th {\n",
       "        text-align: right;\n",
       "    }\n",
       "</style>\n",
       "<table border=\"1\" class=\"dataframe\">\n",
       "  <thead>\n",
       "    <tr style=\"text-align: right;\">\n",
       "      <th></th>\n",
       "      <th>de_para</th>\n",
       "      <th>valor</th>\n",
       "    </tr>\n",
       "  </thead>\n",
       "  <tbody>\n",
       "    <tr>\n",
       "      <th>1771</th>\n",
       "      <td>PIX TRANSF LEANDRO04/07</td>\n",
       "      <td>pix</td>\n",
       "    </tr>\n",
       "    <tr>\n",
       "      <th>1779</th>\n",
       "      <td>PIX TRANSF erlonds08/07</td>\n",
       "      <td>cabelereiro</td>\n",
       "    </tr>\n",
       "    <tr>\n",
       "      <th>1790</th>\n",
       "      <td>PIX TRANSF erlonds25/07</td>\n",
       "      <td>cabelereiro</td>\n",
       "    </tr>\n",
       "    <tr>\n",
       "      <th>3515</th>\n",
       "      <td>PIX TRANSF  erlonds08/07</td>\n",
       "      <td>cabeleireiro</td>\n",
       "    </tr>\n",
       "    <tr>\n",
       "      <th>3531</th>\n",
       "      <td>PIX TRANSF  IMW R 306/07</td>\n",
       "      <td>seminario</td>\n",
       "    </tr>\n",
       "    <tr>\n",
       "      <th>3700</th>\n",
       "      <td>PIX TRANSF  PAES E 13/07</td>\n",
       "      <td>padaria</td>\n",
       "    </tr>\n",
       "    <tr>\n",
       "      <th>3701</th>\n",
       "      <td>PIX TRANSF  DJM BAZ14/07</td>\n",
       "      <td>utensilios</td>\n",
       "    </tr>\n",
       "    <tr>\n",
       "      <th>3704</th>\n",
       "      <td>PIX TRANSF  BAKARA 16/07</td>\n",
       "      <td>psicologa</td>\n",
       "    </tr>\n",
       "    <tr>\n",
       "      <th>3705</th>\n",
       "      <td>PIX TRANSF  Pedro H16/07</td>\n",
       "      <td>ceforte</td>\n",
       "    </tr>\n",
       "    <tr>\n",
       "      <th>3706</th>\n",
       "      <td>PIX TRANSF  Sara Cr16/07</td>\n",
       "      <td>ceforte</td>\n",
       "    </tr>\n",
       "    <tr>\n",
       "      <th>3714</th>\n",
       "      <td>PIX TRANSF  erlonds25/07</td>\n",
       "      <td>cabeleireiro</td>\n",
       "    </tr>\n",
       "    <tr>\n",
       "      <th>3715</th>\n",
       "      <td>PIX TRANSF  IMW 3 R24/07</td>\n",
       "      <td>oferta</td>\n",
       "    </tr>\n",
       "    <tr>\n",
       "      <th>3717</th>\n",
       "      <td>PIX TRANSF  aquecen27/07</td>\n",
       "      <td>servico</td>\n",
       "    </tr>\n",
       "    <tr>\n",
       "      <th>3719</th>\n",
       "      <td>PIX TRANSF  IMW 3 R29/07</td>\n",
       "      <td>oferta</td>\n",
       "    </tr>\n",
       "    <tr>\n",
       "      <th>3721</th>\n",
       "      <td>PIX TRANSF  IMW 3 R30/07</td>\n",
       "      <td>oferta</td>\n",
       "    </tr>\n",
       "    <tr>\n",
       "      <th>3722</th>\n",
       "      <td>PIX TRANSF  IMW 3 R31/07</td>\n",
       "      <td>oferta</td>\n",
       "    </tr>\n",
       "    <tr>\n",
       "      <th>3780</th>\n",
       "      <td>PIX TRANSF  ESPACO 14/07</td>\n",
       "      <td>escola</td>\n",
       "    </tr>\n",
       "    <tr>\n",
       "      <th>3938</th>\n",
       "      <td>PIX TRANSF  LEANDRO04/07</td>\n",
       "      <td>pix</td>\n",
       "    </tr>\n",
       "    <tr>\n",
       "      <th>4079</th>\n",
       "      <td>PIX TRANSF  DJM BAZ14/07</td>\n",
       "      <td>pix</td>\n",
       "    </tr>\n",
       "    <tr>\n",
       "      <th>4218</th>\n",
       "      <td>PIX TRANSF NIRLEY 02/07</td>\n",
       "      <td>futebol</td>\n",
       "    </tr>\n",
       "    <tr>\n",
       "      <th>4219</th>\n",
       "      <td>PIX TRANSF Matheus01/07</td>\n",
       "      <td>alimentacao</td>\n",
       "    </tr>\n",
       "    <tr>\n",
       "      <th>4220</th>\n",
       "      <td>PIX TRANSF  IMW 3 R01/07</td>\n",
       "      <td>igreja</td>\n",
       "    </tr>\n",
       "    <tr>\n",
       "      <th>4221</th>\n",
       "      <td>PIX TRANSF  IMW 3 R07/07</td>\n",
       "      <td>igreja</td>\n",
       "    </tr>\n",
       "    <tr>\n",
       "      <th>4227</th>\n",
       "      <td>PIX TRANSF  NIRLEY 02/07</td>\n",
       "      <td>futebol</td>\n",
       "    </tr>\n",
       "    <tr>\n",
       "      <th>4230</th>\n",
       "      <td>PIX TRANSF  Matheus01/07</td>\n",
       "      <td>alimentacao</td>\n",
       "    </tr>\n",
       "    <tr>\n",
       "      <th>4231</th>\n",
       "      <td>PIX TRANSF  LUCIANO07/07</td>\n",
       "      <td>futebol</td>\n",
       "    </tr>\n",
       "    <tr>\n",
       "      <th>4232</th>\n",
       "      <td>PIX TRANSF  Matheus08/07</td>\n",
       "      <td>alimentacao</td>\n",
       "    </tr>\n",
       "    <tr>\n",
       "      <th>4237</th>\n",
       "      <td>PIX TRANSF  REAL BR07/07</td>\n",
       "      <td>futebol</td>\n",
       "    </tr>\n",
       "    <tr>\n",
       "      <th>4239</th>\n",
       "      <td>PIX TRANSF  CLAUDIO08/07</td>\n",
       "      <td>viagem</td>\n",
       "    </tr>\n",
       "    <tr>\n",
       "      <th>4241</th>\n",
       "      <td>PIX TRANSF  Crisval06/07</td>\n",
       "      <td>viagem</td>\n",
       "    </tr>\n",
       "  </tbody>\n",
       "</table>\n",
       "</div>"
      ],
      "text/plain": [
       "                       de_para         valor\n",
       "1771   PIX TRANSF LEANDRO04/07           pix\n",
       "1779   PIX TRANSF erlonds08/07   cabelereiro\n",
       "1790   PIX TRANSF erlonds25/07   cabelereiro\n",
       "3515  PIX TRANSF  erlonds08/07  cabeleireiro\n",
       "3531  PIX TRANSF  IMW R 306/07     seminario\n",
       "3700  PIX TRANSF  PAES E 13/07       padaria\n",
       "3701  PIX TRANSF  DJM BAZ14/07    utensilios\n",
       "3704  PIX TRANSF  BAKARA 16/07     psicologa\n",
       "3705  PIX TRANSF  Pedro H16/07       ceforte\n",
       "3706  PIX TRANSF  Sara Cr16/07       ceforte\n",
       "3714  PIX TRANSF  erlonds25/07  cabeleireiro\n",
       "3715  PIX TRANSF  IMW 3 R24/07        oferta\n",
       "3717  PIX TRANSF  aquecen27/07       servico\n",
       "3719  PIX TRANSF  IMW 3 R29/07        oferta\n",
       "3721  PIX TRANSF  IMW 3 R30/07        oferta\n",
       "3722  PIX TRANSF  IMW 3 R31/07        oferta\n",
       "3780  PIX TRANSF  ESPACO 14/07        escola\n",
       "3938  PIX TRANSF  LEANDRO04/07           pix\n",
       "4079  PIX TRANSF  DJM BAZ14/07           pix\n",
       "4218   PIX TRANSF NIRLEY 02/07       futebol\n",
       "4219   PIX TRANSF Matheus01/07   alimentacao\n",
       "4220  PIX TRANSF  IMW 3 R01/07        igreja\n",
       "4221  PIX TRANSF  IMW 3 R07/07        igreja\n",
       "4227  PIX TRANSF  NIRLEY 02/07       futebol\n",
       "4230  PIX TRANSF  Matheus01/07   alimentacao\n",
       "4231  PIX TRANSF  LUCIANO07/07       futebol\n",
       "4232  PIX TRANSF  Matheus08/07   alimentacao\n",
       "4237  PIX TRANSF  REAL BR07/07       futebol\n",
       "4239  PIX TRANSF  CLAUDIO08/07        viagem\n",
       "4241  PIX TRANSF  Crisval06/07        viagem"
      ]
     },
     "execution_count": 4,
     "metadata": {},
     "output_type": "execute_result"
    }
   ],
   "source": [
    "df_type = pd.read_csv(f'{path_src}/csv/type.csv', sep=';', usecols=['de_para','valor'])\n",
    "df_type = df_type[(df_type[\"valor\"].notnull())].drop_duplicates()#.unique() | .notnull() | .isnull()\n",
    "df_type_raw = df_type.loc[df_type['de_para'].str.contains(r'^PIX TRANSF[^\\\\b]+.+[\\\\/]07')==True].copy()#.str.contains(r'SALDO[^\\\\b]+\\w')==False].copy()\n",
    "df_type_raw"
   ]
  },
  {
   "cell_type": "code",
   "execution_count": 61,
   "metadata": {},
   "outputs": [
    {
     "data": {
      "text/plain": [
       "2"
      ]
     },
     "execution_count": 61,
     "metadata": {},
     "output_type": "execute_result"
    }
   ],
   "source": [
    "df_type_raw[df_type_raw['valor']==\"igreja\"].groupby(['valor']).agg(['count'])\n",
    "df_analytics = df_type_raw['valor'].loc[df_type_raw['valor']==\"igreja\"]\n",
    "tottal=df_analytics.count()\n",
    "\n",
    "tottal"
   ]
  },
  {
   "cell_type": "code",
   "execution_count": null,
   "metadata": {},
   "outputs": [],
   "source": [
    "df = df.loc[df['descricao'].str.contains(r'.IMW[^\\\\b]+\\w')==True].copy()#.str.contains(r'SALDO[^\\\\b]+\\w')==False].copy()"
   ]
  },
  {
   "cell_type": "code",
   "execution_count": null,
   "metadata": {},
   "outputs": [],
   "source": [
    "for index_cc, row_cc in df.iterrows():\n",
    "    for index_dp, row_dp in df_type_raw.iterrows():\n",
    "        print(row_cc[\"descricao\"])\n",
    "        print(row_dp[\"de_para\"])\n",
    "        if row_cc[\"descricao\"] == row_dp[\"de_para\"]:\n",
    "            print (\"primeira verificação de de-para custo:\",\" / posicao:\",index_dp, row_dp['de_para'], '=', row_cc[\"descricao\"],\" / posicao:\",index_cc)\n"
   ]
  },
  {
   "cell_type": "code",
   "execution_count": 10,
   "metadata": {},
   "outputs": [],
   "source": [
    "# #dfpus['tipo_custo'] = dfpus.apply(lambda x: x['tipo_custo']=\"compras\" if x['tipo_custo']==None else x['tipo_custo']=x['tipo_custo'],  axis=1)\n",
    "# for x in range(len(dfpus)):\n",
    "#     if dfpus[\"tipo_custo\"].iloc[x]==\"pessoa\":\n",
    "#         dfpus[\"tipo_custo\"].iloc[x]=\"compras\" "
   ]
  },
  {
   "cell_type": "code",
   "execution_count": 11,
   "metadata": {},
   "outputs": [],
   "source": [
    "\n",
    "# list_tab = [str(l) for l in dfpus['tipo_custo'].tolist()]\n",
    "# list_tab\n"
   ]
  }
 ],
 "metadata": {
  "kernelspec": {
   "display_name": "env",
   "language": "python",
   "name": "python3"
  },
  "language_info": {
   "codemirror_mode": {
    "name": "ipython",
    "version": 3
   },
   "file_extension": ".py",
   "mimetype": "text/x-python",
   "name": "python",
   "nbconvert_exporter": "python",
   "pygments_lexer": "ipython3",
   "version": "3.7.16"
  },
  "orig_nbformat": 4,
  "vscode": {
   "interpreter": {
    "hash": "268ab01c0d1568052fde17b27b7cfc10139e4612f952501a45d2fe6145ce40b7"
   }
  }
 },
 "nbformat": 4,
 "nbformat_minor": 2
}
