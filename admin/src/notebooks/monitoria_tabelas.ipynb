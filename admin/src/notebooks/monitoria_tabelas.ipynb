{
 "cells": [
  {
   "cell_type": "code",
   "execution_count": 1,
   "metadata": {},
   "outputs": [],
   "source": [
    "import pandas as pd   \n",
    "import pandas_gbq as pgbq \n",
    "import os\n",
    "import re\n",
    "import sys"
   ]
  },
  {
   "cell_type": "code",
   "execution_count": 2,
   "metadata": {},
   "outputs": [],
   "source": [
    "path_note = os.getcwd()\n",
    "path_src = re.sub(r'(.)notebooks','',path_note)\n",
    "sys.path.append(os.path.abspath(f'{path_src}/'))"
   ]
  },
  {
   "cell_type": "code",
   "execution_count": 3,
   "metadata": {},
   "outputs": [],
   "source": [
    "def get_file_local(sql):\n",
    "\n",
    "    # substituido ler aruqivo local, nao gera o arquivo, ler no storage\n",
    "    path_ = os.getcwd()\n",
    "    scrp_path = f'{path_}/sql/{sql}'\n",
    "\n",
    "    ## arquivo sql dentro da esrutura airflow: \n",
    "    f = open(scrp_path, 'r')\n",
    "\n",
    "    conteudo = f.readlines()\n",
    "    # initialize an empty string\n",
    "    strsql = \"\"\n",
    "\n",
    "    # converte arquivo em string\n",
    "    for ln in conteudo:\n",
    "        strsql += ln   \n",
    "\n",
    "    return strsql"
   ]
  },
  {
   "cell_type": "code",
   "execution_count": 4,
   "metadata": {},
   "outputs": [],
   "source": [
    "import google.auth\n",
    "\n",
    "user = os.getlogin()\n",
    "os.environ[\"GOOGLE_APPLICATION_CREDENTIALS\"] = '/home/andre/.ssh/my-chave-gcp-devsamelo2.json'\n",
    "\n",
    "#credencial = service_account.Credentials.from_service_account_file(key)\n",
    "credencial, pid = google.auth.default(     \n",
    "    scopes=[\n",
    "    \"https://www.googleapis.com/auth/drive\",\n",
    "    \"https://www.googleapis.com/auth/bigquery\",\n",
    "    \"https://www.googleapis.com/auth/cloud-platform\"\n",
    "])"
   ]
  },
  {
   "cell_type": "code",
   "execution_count": 5,
   "metadata": {},
   "outputs": [],
   "source": [
    "#substituir metodo busca sql local: '/home/airflow/dags/transporte/scripts'\n",
    "sql = 'dataset.sql'\n",
    "strsql = get_file_local(sql)  \n",
    "# strsql = geraScriptSql(f'{path}/query_cust/QUERY_ANALISE_CUSTO_TABELAS.sql',None,None) #,value[1])\n",
    "#GERAR DATAFRAME\n",
    "df = pgbq.read_gbq(strsql, project_id='devsamelo2' , credentials=credencial, progress_bar_type=None)"
   ]
  },
  {
   "cell_type": "code",
   "execution_count": 6,
   "metadata": {},
   "outputs": [
    {
     "data": {
      "text/html": [
       "<div>\n",
       "<style scoped>\n",
       "    .dataframe tbody tr th:only-of-type {\n",
       "        vertical-align: middle;\n",
       "    }\n",
       "\n",
       "    .dataframe tbody tr th {\n",
       "        vertical-align: top;\n",
       "    }\n",
       "\n",
       "    .dataframe thead th {\n",
       "        text-align: right;\n",
       "    }\n",
       "</style>\n",
       "<table border=\"1\" class=\"dataframe\">\n",
       "  <thead>\n",
       "    <tr style=\"text-align: right;\">\n",
       "      <th></th>\n",
       "      <th>project_id</th>\n",
       "      <th>dataset_id</th>\n",
       "      <th>table_id</th>\n",
       "      <th>row_count</th>\n",
       "      <th>size_bytes</th>\n",
       "      <th>size_mb</th>\n",
       "    </tr>\n",
       "  </thead>\n",
       "  <tbody>\n",
       "    <tr>\n",
       "      <th>0</th>\n",
       "      <td>devsamelo2</td>\n",
       "      <td>dev_domestico</td>\n",
       "      <td>credito_2023_excel</td>\n",
       "      <td>688</td>\n",
       "      <td>48083</td>\n",
       "      <td>0.05</td>\n",
       "    </tr>\n",
       "    <tr>\n",
       "      <th>1</th>\n",
       "      <td>devsamelo2</td>\n",
       "      <td>dev_domestico</td>\n",
       "      <td>custo_2023_excel</td>\n",
       "      <td>677</td>\n",
       "      <td>42610</td>\n",
       "      <td>0.04</td>\n",
       "    </tr>\n",
       "    <tr>\n",
       "      <th>2</th>\n",
       "      <td>devsamelo2</td>\n",
       "      <td>dev_domestico</td>\n",
       "      <td>recebido_2023_excel</td>\n",
       "      <td>115</td>\n",
       "      <td>6599</td>\n",
       "      <td>0.01</td>\n",
       "    </tr>\n",
       "    <tr>\n",
       "      <th>3</th>\n",
       "      <td>devsamelo2</td>\n",
       "      <td>dev_domestico</td>\n",
       "      <td>saldo_2023_excel</td>\n",
       "      <td>145</td>\n",
       "      <td>6694</td>\n",
       "      <td>0.01</td>\n",
       "    </tr>\n",
       "  </tbody>\n",
       "</table>\n",
       "</div>"
      ],
      "text/plain": [
       "   project_id     dataset_id             table_id  row_count  size_bytes  \\\n",
       "0  devsamelo2  dev_domestico   credito_2023_excel        688       48083   \n",
       "1  devsamelo2  dev_domestico     custo_2023_excel        677       42610   \n",
       "2  devsamelo2  dev_domestico  recebido_2023_excel        115        6599   \n",
       "3  devsamelo2  dev_domestico     saldo_2023_excel        145        6694   \n",
       "\n",
       "   size_mb  \n",
       "0     0.05  \n",
       "1     0.04  \n",
       "2     0.01  \n",
       "3     0.01  "
      ]
     },
     "execution_count": 6,
     "metadata": {},
     "output_type": "execute_result"
    }
   ],
   "source": [
    "df[['project_id','dataset_id','table_id','row_count','size_bytes','size_mb']]"
   ]
  },
  {
   "attachments": {},
   "cell_type": "markdown",
   "metadata": {},
   "source": [
    "<!-- devsamelo2\tdev_domestico\tcredito_2023_excel\t649\t45173\t0.05\n",
    "\tdevsamelo2\tdev_domestico\tcusto_2023_excel\t482\t30518\t0.03\n",
    "\tdevsamelo2\tdev_domestico\trecebido_2023_excel\t96\t5497\t0.01\n",
    "\tdevsamelo2\tdev_domestico\tsaldo_2023_excel\t137\t6318\t0.01 -->"
   ]
  },
  {
   "cell_type": "code",
   "execution_count": 7,
   "metadata": {},
   "outputs": [],
   "source": [
    "# \tproject_id\tdataset_id\ttable_id\trow_count\tsize_bytes\tsize_mb\n",
    "# 0\tdevsamelo2\tdev_domestico\tcredito_2023_excel\t651\t45457\t0.05\n",
    "# 1\tdevsamelo2\tdev_domestico\tcusto_2023_excel\t482\t30350\t0.03\n",
    "# 2\tdevsamelo2\tdev_domestico\trecebido_2023_excel\t96\t5497\t0.01\n",
    "# 3\tdevsamelo2\tdev_domestico\tsaldo_2023_excel\t137\t6318\t0.01"
   ]
  }
 ],
 "metadata": {
  "kernelspec": {
   "display_name": "env",
   "language": "python",
   "name": "python3"
  },
  "language_info": {
   "codemirror_mode": {
    "name": "ipython",
    "version": 3
   },
   "file_extension": ".py",
   "mimetype": "text/x-python",
   "name": "python",
   "nbconvert_exporter": "python",
   "pygments_lexer": "ipython3",
   "version": "3.7.16"
  },
  "orig_nbformat": 4,
  "vscode": {
   "interpreter": {
    "hash": "268ab01c0d1568052fde17b27b7cfc10139e4612f952501a45d2fe6145ce40b7"
   }
  }
 },
 "nbformat": 4,
 "nbformat_minor": 2
}
