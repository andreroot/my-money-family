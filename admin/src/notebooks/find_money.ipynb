{
 "cells": [
  {
   "cell_type": "code",
   "execution_count": 1,
   "metadata": {},
   "outputs": [],
   "source": [
    "from geopy.geocoders import Nominatim\n",
    "import brazilcep"
   ]
  },
  {
   "cell_type": "code",
   "execution_count": 6,
   "metadata": {},
   "outputs": [],
   "source": [
    "endereco = brazilcep.get_address_from_cep('02180020')"
   ]
  },
  {
   "cell_type": "code",
   "execution_count": 7,
   "metadata": {},
   "outputs": [
    {
     "data": {
      "text/plain": [
       "{'district': 'Parque Novo Mundo',\n",
       " 'cep': '02180-020',\n",
       " 'city': 'São Paulo',\n",
       " 'street': 'Rua Soldado José Vicente de Paula',\n",
       " 'uf': 'SP',\n",
       " 'complement': ''}"
      ]
     },
     "execution_count": 7,
     "metadata": {},
     "output_type": "execute_result"
    }
   ],
   "source": [
    "endereco"
   ]
  },
  {
   "cell_type": "code",
   "execution_count": 8,
   "metadata": {},
   "outputs": [],
   "source": [
    "geolocator = Nominatim(user_agent=\"geolocalização\")"
   ]
  },
  {
   "cell_type": "code",
   "execution_count": 9,
   "metadata": {},
   "outputs": [],
   "source": [
    "# Formato: R.  Capote Valente\n",
    "rua = endereco['street']\n",
    "# Pinheiros\n",
    "bairro = endereco['district']\n",
    "# São Paulo\n",
    "cidade = endereco['city']\n",
    "\n",
    "localizacao = geolocator.geocode(f\"{rua}, {bairro}-{cidade}\")"
   ]
  },
  {
   "cell_type": "code",
   "execution_count": 10,
   "metadata": {},
   "outputs": [
    {
     "name": "stdout",
     "output_type": "stream",
     "text": [
      "(-23.5211879, -46.5666702)\n"
     ]
    }
   ],
   "source": [
    "print((localizacao.latitude, localizacao.longitude))"
   ]
  }
 ],
 "metadata": {
  "kernelspec": {
   "display_name": "env",
   "language": "python",
   "name": "python3"
  },
  "language_info": {
   "codemirror_mode": {
    "name": "ipython",
    "version": 3
   },
   "file_extension": ".py",
   "mimetype": "text/x-python",
   "name": "python",
   "nbconvert_exporter": "python",
   "pygments_lexer": "ipython3",
   "version": "3.11.9"
  }
 },
 "nbformat": 4,
 "nbformat_minor": 2
}
